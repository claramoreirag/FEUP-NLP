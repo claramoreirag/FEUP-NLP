{
 "cells": [
  {
   "cell_type": "markdown",
   "metadata": {},
   "source": [
    "# ADU Classifier\n",
    "\n",
    "## Project Description\n",
    "\n",
    "In the scope of the DARGMINTS project, an annotation project was carried out which consisted of annotating argumentation structures in opinion articles published in the Público newspaper. The annotation included several layers:\n",
    "\n",
    "- Selecting text spans that are taken to have an argumentative role (either as premises or conclusions of arguments) -- these are Argumentative Discourse Units (ADU).\n",
    "- Connecting such ADUs through support or attack relations.\n",
    "- Classifying the propositional content of ADUs as propositions of fact, propositions of value, or propositions of policy; within propositions of value, distinguish between those with a positive (+) or negative (-) connotation.\n",
    "\n",
    "In a proposition of fact, the content corresponds to a piece of information that can be checked for truthness. This does not usually happen with propositions of value, which denote value judgments with a strong subjective nature; often, they also have a (positive or negative) polarity attached. A proposition of policy prescribes or suggests a certain line of action, often mentioning the agents or entities that are capable of carrying out such policies.\n",
    "\n",
    "The aim of this assignment is to build a classifier of types of ADUs, thus focusing on the last annotation step described above. For that, you have access to two different files:\n",
    "\n",
    "- A file containing the content of each annotated ADU span and its 5-class classification: Value, Value(+), Value(-), Fact, or Policy. For each ADU, we also know the annotator and the document from which it has been taken.\n",
    "- A file containing details for each opinion article that has been annotated, including the full article content.\n",
    "Besides ADU contents, you can make use of any contextual information provided in the corresponding opinion article.\n",
    "\n",
    "Each opinion article has been annotated by 3 different annotators. For that reason, you will find in the ADU file an indication of which annotator has obtained the ADU. It may happen that the same ADU has been annotated by more than one annotator. When that is the case, they do not necessarily agree on the type of proposition.\n",
    "\n",
    "How good a classifier (or set of classifiers) can you get? Don't forget to properly split the dataset in a sensible manner, so that you have a proper test set. Start by obtaining an arbitrary baseline, against which you can then compare your improvements."
   ]
  },
  {
   "cell_type": "code",
   "execution_count": 1,
   "metadata": {},
   "outputs": [],
   "source": [
    "#TODO add a table of contents"
   ]
  },
  {
   "cell_type": "markdown",
   "metadata": {},
   "source": [
    "## Developed ADU Classifier\n",
    "\n",
    "### Datasets \n",
    "Let's start by opening the datasets and analyzing the structure of the available data."
   ]
  },
  {
   "cell_type": "code",
   "execution_count": 56,
   "metadata": {},
   "outputs": [
    {
     "output_type": "stream",
     "name": "stderr",
     "text": "[nltk_data] Downloading package floresta to\n[nltk_data]     C:\\Users\\clara\\AppData\\Roaming\\nltk_data...\n[nltk_data]   Package floresta is already up-to-date!\n"
    },
    {
     "output_type": "execute_result",
     "data": {
      "text/plain": "True"
     },
     "metadata": {},
     "execution_count": 56
    }
   ],
   "source": [
    "# importing necessary libraries\n",
    "import numpy as np \n",
    "from NLPyPort import load_congif_to_list, new_full_pipe\n",
    "import pandas as pd\n",
    "import unidecode\n",
    "import seaborn as sb\n",
    "import matplotlib.pyplot as plt\n",
    "import re\n",
    "import nltk\n",
    "from nltk.corpus import stopwords\n",
    "from nltk.stem import *\n",
    "from sklearn.model_selection import train_test_split\n",
    "from sklearn.feature_extraction.text import CountVectorizer\n",
    "import sklearn.metrics\n",
    "import time\n",
    "\n",
    "from sklearn.naive_bayes import MultinomialNB\n",
    "from sklearn.metrics import confusion_matrix\n",
    "from sklearn.metrics import classification_report\n",
    "from sklearn.model_selection import cross_validate\n",
    "from tabulate import tabulate\n",
    "nltk.download('floresta')\n"
   ]
  },
  {
   "cell_type": "code",
   "execution_count": 3,
   "metadata": {},
   "outputs": [],
   "source": [
    "# reading the datasets\n",
    "articles = pd.read_excel('./OpArticles/OpArticles.xlsx')\n",
    "adus = pd.read_excel('./OpArticles/OpArticles_ADUs.xlsx')\n"
   ]
  },
  {
   "cell_type": "code",
   "execution_count": 4,
   "metadata": {},
   "outputs": [
    {
     "output_type": "execute_result",
     "data": {
      "text/plain": "                 article_id  \\\n0  5d04a31b896a7fea069ef06f   \n1  5d04a3fc896a7fea069f0717   \n2  5d04a455896a7fea069f07ab   \n3  5d04a52f896a7fea069f0921   \n4  5d04a8d7896a7fea069f6997   \n\n                                               title  \\\n0            Pouco pão e muito circo, morte e bocejo   \n1    Portugal nos Mundiais de Futebol de 2010 e 2014   \n2                          Futebol, guerra, religião   \n3  As razões do Qatar para acolher o Mundial em 2022   \n4                     A política no campo de futebol   \n\n                                    authors  \\\n0                  ['José Vítor Malheiros']   \n1                       ['Rui J. Baptista']   \n2                         ['Fernando Belo']   \n3  ['Hamad bin Khalifa bin Ahmad Al Thani']   \n4                        ['Carlos Nolasco']   \n\n                                                body  \\\n0  O poeta espanhol António Machado escrevia, uns...   \n1  “O mais excelente quadro posto a uma luz logo ...   \n2  1. As sociedades humanas parecem ser regidas p...   \n3  Este foi um Mundial incrível. Vimos actuações ...   \n4  O futebol sempre foi um jogo aparentemente sim...   \n\n                                    meta_description  topics  \\\n0  É tudo cómico na FIFA, porque todos os dias a ...  Sports   \n1  Deve ser evidenciado o clima favorável criado ...  Sports   \n2  O futebol parece ser um sucedâneo quer da lei ...  Sports   \n3  Queremos cooperar plenamente com a investigaçã...  Sports   \n4  Retirar a expressão política do futebol é reti...  Sports   \n\n                                            keywords         publish_date  \\\n0  ['Brasil', 'Campeonato do Mundo', 'Desporto', ...  2014-06-17 00:16:00   \n1  ['Brasil', 'Campeonato do Mundo', 'Coreia do N...  2014-07-05 02:46:00   \n2  ['A guerra na Síria', 'Desporto', 'Futebol', '...  2014-07-12 16:05:33   \n3  ['Desporto', 'FIFA', 'Futebol', 'Mundial de fu...  2014-07-27 02:00:00   \n4  ['Albânia', 'Campeonato da Europa', 'Desporto'...  2014-10-23 00:16:00   \n\n                                       url_canonical  \n0  https://www.publico.pt/2014/06/17/desporto/opi...  \n1  https://www.publico.pt/2014/07/05/desporto/opi...  \n2  https://www.publico.pt/2014/07/12/desporto/opi...  \n3  https://www.publico.pt/2014/07/27/desporto/opi...  \n4  https://www.publico.pt/2014/10/23/desporto/opi...  ",
      "text/html": "<div>\n<style scoped>\n    .dataframe tbody tr th:only-of-type {\n        vertical-align: middle;\n    }\n\n    .dataframe tbody tr th {\n        vertical-align: top;\n    }\n\n    .dataframe thead th {\n        text-align: right;\n    }\n</style>\n<table border=\"1\" class=\"dataframe\">\n  <thead>\n    <tr style=\"text-align: right;\">\n      <th></th>\n      <th>article_id</th>\n      <th>title</th>\n      <th>authors</th>\n      <th>body</th>\n      <th>meta_description</th>\n      <th>topics</th>\n      <th>keywords</th>\n      <th>publish_date</th>\n      <th>url_canonical</th>\n    </tr>\n  </thead>\n  <tbody>\n    <tr>\n      <th>0</th>\n      <td>5d04a31b896a7fea069ef06f</td>\n      <td>Pouco pão e muito circo, morte e bocejo</td>\n      <td>['José Vítor Malheiros']</td>\n      <td>O poeta espanhol António Machado escrevia, uns...</td>\n      <td>É tudo cómico na FIFA, porque todos os dias a ...</td>\n      <td>Sports</td>\n      <td>['Brasil', 'Campeonato do Mundo', 'Desporto', ...</td>\n      <td>2014-06-17 00:16:00</td>\n      <td>https://www.publico.pt/2014/06/17/desporto/opi...</td>\n    </tr>\n    <tr>\n      <th>1</th>\n      <td>5d04a3fc896a7fea069f0717</td>\n      <td>Portugal nos Mundiais de Futebol de 2010 e 2014</td>\n      <td>['Rui J. Baptista']</td>\n      <td>“O mais excelente quadro posto a uma luz logo ...</td>\n      <td>Deve ser evidenciado o clima favorável criado ...</td>\n      <td>Sports</td>\n      <td>['Brasil', 'Campeonato do Mundo', 'Coreia do N...</td>\n      <td>2014-07-05 02:46:00</td>\n      <td>https://www.publico.pt/2014/07/05/desporto/opi...</td>\n    </tr>\n    <tr>\n      <th>2</th>\n      <td>5d04a455896a7fea069f07ab</td>\n      <td>Futebol, guerra, religião</td>\n      <td>['Fernando Belo']</td>\n      <td>1. As sociedades humanas parecem ser regidas p...</td>\n      <td>O futebol parece ser um sucedâneo quer da lei ...</td>\n      <td>Sports</td>\n      <td>['A guerra na Síria', 'Desporto', 'Futebol', '...</td>\n      <td>2014-07-12 16:05:33</td>\n      <td>https://www.publico.pt/2014/07/12/desporto/opi...</td>\n    </tr>\n    <tr>\n      <th>3</th>\n      <td>5d04a52f896a7fea069f0921</td>\n      <td>As razões do Qatar para acolher o Mundial em 2022</td>\n      <td>['Hamad bin Khalifa bin Ahmad Al Thani']</td>\n      <td>Este foi um Mundial incrível. Vimos actuações ...</td>\n      <td>Queremos cooperar plenamente com a investigaçã...</td>\n      <td>Sports</td>\n      <td>['Desporto', 'FIFA', 'Futebol', 'Mundial de fu...</td>\n      <td>2014-07-27 02:00:00</td>\n      <td>https://www.publico.pt/2014/07/27/desporto/opi...</td>\n    </tr>\n    <tr>\n      <th>4</th>\n      <td>5d04a8d7896a7fea069f6997</td>\n      <td>A política no campo de futebol</td>\n      <td>['Carlos Nolasco']</td>\n      <td>O futebol sempre foi um jogo aparentemente sim...</td>\n      <td>Retirar a expressão política do futebol é reti...</td>\n      <td>Sports</td>\n      <td>['Albânia', 'Campeonato da Europa', 'Desporto'...</td>\n      <td>2014-10-23 00:16:00</td>\n      <td>https://www.publico.pt/2014/10/23/desporto/opi...</td>\n    </tr>\n  </tbody>\n</table>\n</div>"
     },
     "metadata": {},
     "execution_count": 4
    }
   ],
   "source": [
    "#Articles\n",
    "articles.head()"
   ]
  },
  {
   "cell_type": "code",
   "execution_count": 5,
   "metadata": {},
   "outputs": [
    {
     "output_type": "execute_result",
     "data": {
      "text/plain": "                 article_id annotator  node          ranges  \\\n0  5d04a31b896a7fea069ef06f         A     0  [[2516, 2556]]   \n1  5d04a31b896a7fea069ef06f         A     1  [[2568, 2806]]   \n2  5d04a31b896a7fea069ef06f         A     3  [[3169, 3190]]   \n3  5d04a31b896a7fea069ef06f         A     4  [[3198, 3285]]   \n4  5d04a31b896a7fea069ef06f         A     6  [[4257, 4296]]   \n\n                                              tokens  label  \n0           O facto não é apenas fruto da ignorância  Value  \n1  havia no seu humor mais jornalismo (mais inves...  Value  \n2                              É tudo cómico na FIFA  Value  \n3  o que todos nós permitimos que esta organizaçã...  Value  \n4            não nos fazem rir à custa dos poderosos  Value  ",
      "text/html": "<div>\n<style scoped>\n    .dataframe tbody tr th:only-of-type {\n        vertical-align: middle;\n    }\n\n    .dataframe tbody tr th {\n        vertical-align: top;\n    }\n\n    .dataframe thead th {\n        text-align: right;\n    }\n</style>\n<table border=\"1\" class=\"dataframe\">\n  <thead>\n    <tr style=\"text-align: right;\">\n      <th></th>\n      <th>article_id</th>\n      <th>annotator</th>\n      <th>node</th>\n      <th>ranges</th>\n      <th>tokens</th>\n      <th>label</th>\n    </tr>\n  </thead>\n  <tbody>\n    <tr>\n      <th>0</th>\n      <td>5d04a31b896a7fea069ef06f</td>\n      <td>A</td>\n      <td>0</td>\n      <td>[[2516, 2556]]</td>\n      <td>O facto não é apenas fruto da ignorância</td>\n      <td>Value</td>\n    </tr>\n    <tr>\n      <th>1</th>\n      <td>5d04a31b896a7fea069ef06f</td>\n      <td>A</td>\n      <td>1</td>\n      <td>[[2568, 2806]]</td>\n      <td>havia no seu humor mais jornalismo (mais inves...</td>\n      <td>Value</td>\n    </tr>\n    <tr>\n      <th>2</th>\n      <td>5d04a31b896a7fea069ef06f</td>\n      <td>A</td>\n      <td>3</td>\n      <td>[[3169, 3190]]</td>\n      <td>É tudo cómico na FIFA</td>\n      <td>Value</td>\n    </tr>\n    <tr>\n      <th>3</th>\n      <td>5d04a31b896a7fea069ef06f</td>\n      <td>A</td>\n      <td>4</td>\n      <td>[[3198, 3285]]</td>\n      <td>o que todos nós permitimos que esta organizaçã...</td>\n      <td>Value</td>\n    </tr>\n    <tr>\n      <th>4</th>\n      <td>5d04a31b896a7fea069ef06f</td>\n      <td>A</td>\n      <td>6</td>\n      <td>[[4257, 4296]]</td>\n      <td>não nos fazem rir à custa dos poderosos</td>\n      <td>Value</td>\n    </tr>\n  </tbody>\n</table>\n</div>"
     },
     "metadata": {},
     "execution_count": 5
    }
   ],
   "source": [
    "#ADUs\n",
    "adus.head()"
   ]
  },
  {
   "cell_type": "markdown",
   "metadata": {},
   "source": [
    "## Data Analysis\n",
    "\n",
    "Number of ADUs of each annotator:"
   ]
  },
  {
   "cell_type": "code",
   "execution_count": 6,
   "metadata": {},
   "outputs": [
    {
     "output_type": "execute_result",
     "data": {
      "text/plain": "annotator\nB    5226\nC    4111\nD    4071\nA    3335\ndtype: int64"
     },
     "metadata": {},
     "execution_count": 6
    }
   ],
   "source": [
    "adus.value_counts(\"annotator\")"
   ]
  },
  {
   "cell_type": "markdown",
   "metadata": {},
   "source": [
    "Number of occurences of each label:"
   ]
  },
  {
   "cell_type": "code",
   "execution_count": 7,
   "metadata": {},
   "outputs": [
    {
     "output_type": "execute_result",
     "data": {
      "text/plain": "label\nValue       8102\nFact        3663\nValue(-)    2900\nValue(+)    1411\nPolicy       667\ndtype: int64"
     },
     "metadata": {},
     "execution_count": 7
    }
   ],
   "source": [
    "adus.value_counts(\"label\")"
   ]
  },
  {
   "cell_type": "markdown",
   "metadata": {},
   "source": [
    "Get all the ADUs that were found by more than one annotator:"
   ]
  },
  {
   "cell_type": "code",
   "execution_count": 8,
   "metadata": {},
   "outputs": [
    {
     "output_type": "execute_result",
     "data": {
      "text/plain": "                     article_id annotator  node         ranges  \\\n3428   5cf47371896a7fea06009c23         B     0     [[0, 101]]   \n3444   5cf47371896a7fea06009c23         C     0     [[0, 101]]   \n3426   5cf47371896a7fea06009c23         A     6     [[0, 101]]   \n1654   5d04c505896a7fea06a0fabc         A     0     [[0, 104]]   \n1669   5d04c505896a7fea06a0fabc         B     0     [[0, 104]]   \n...                         ...       ...   ...            ...   \n9126   5cf462de896a7fea06ff9495         C     3  [[998, 1032]]   \n9146   5cf462de896a7fea06ff9495         D     6  [[998, 1032]]   \n15430  5cde31c4896a7fea063370a5         A     7  [[998, 1044]]   \n15449  5cde31c4896a7fea063370a5         B     7  [[998, 1044]]   \n15467  5cde31c4896a7fea063370a5         C     8  [[998, 1044]]   \n\n                                                  tokens     label  \n3428   A fase da desconfiança em relação à sobrevivên...     Value  \n3444   A fase da desconfiança em relação à sobrevivên...     Value  \n3426   A fase da desconfiança em relação à sobrevivên...     Value  \n1654   Em dezembro do ano passado Fernando Medina ava...     Value  \n1669   Em dezembro do ano passado Fernando Medina ava...      Fact  \n...                                                  ...       ...  \n9126                  a violência agravou-se brutalmente  Value(-)  \n9146                  a violência agravou-se brutalmente      Fact  \n15430     os governos desconhecem a realidade desportiva  Value(-)  \n15449     os governos desconhecem a realidade desportiva     Value  \n15467     os governos desconhecem a realidade desportiva  Value(-)  \n\n[8392 rows x 6 columns]",
      "text/html": "<div>\n<style scoped>\n    .dataframe tbody tr th:only-of-type {\n        vertical-align: middle;\n    }\n\n    .dataframe tbody tr th {\n        vertical-align: top;\n    }\n\n    .dataframe thead th {\n        text-align: right;\n    }\n</style>\n<table border=\"1\" class=\"dataframe\">\n  <thead>\n    <tr style=\"text-align: right;\">\n      <th></th>\n      <th>article_id</th>\n      <th>annotator</th>\n      <th>node</th>\n      <th>ranges</th>\n      <th>tokens</th>\n      <th>label</th>\n    </tr>\n  </thead>\n  <tbody>\n    <tr>\n      <th>3428</th>\n      <td>5cf47371896a7fea06009c23</td>\n      <td>B</td>\n      <td>0</td>\n      <td>[[0, 101]]</td>\n      <td>A fase da desconfiança em relação à sobrevivên...</td>\n      <td>Value</td>\n    </tr>\n    <tr>\n      <th>3444</th>\n      <td>5cf47371896a7fea06009c23</td>\n      <td>C</td>\n      <td>0</td>\n      <td>[[0, 101]]</td>\n      <td>A fase da desconfiança em relação à sobrevivên...</td>\n      <td>Value</td>\n    </tr>\n    <tr>\n      <th>3426</th>\n      <td>5cf47371896a7fea06009c23</td>\n      <td>A</td>\n      <td>6</td>\n      <td>[[0, 101]]</td>\n      <td>A fase da desconfiança em relação à sobrevivên...</td>\n      <td>Value</td>\n    </tr>\n    <tr>\n      <th>1654</th>\n      <td>5d04c505896a7fea06a0fabc</td>\n      <td>A</td>\n      <td>0</td>\n      <td>[[0, 104]]</td>\n      <td>Em dezembro do ano passado Fernando Medina ava...</td>\n      <td>Value</td>\n    </tr>\n    <tr>\n      <th>1669</th>\n      <td>5d04c505896a7fea06a0fabc</td>\n      <td>B</td>\n      <td>0</td>\n      <td>[[0, 104]]</td>\n      <td>Em dezembro do ano passado Fernando Medina ava...</td>\n      <td>Fact</td>\n    </tr>\n    <tr>\n      <th>...</th>\n      <td>...</td>\n      <td>...</td>\n      <td>...</td>\n      <td>...</td>\n      <td>...</td>\n      <td>...</td>\n    </tr>\n    <tr>\n      <th>9126</th>\n      <td>5cf462de896a7fea06ff9495</td>\n      <td>C</td>\n      <td>3</td>\n      <td>[[998, 1032]]</td>\n      <td>a violência agravou-se brutalmente</td>\n      <td>Value(-)</td>\n    </tr>\n    <tr>\n      <th>9146</th>\n      <td>5cf462de896a7fea06ff9495</td>\n      <td>D</td>\n      <td>6</td>\n      <td>[[998, 1032]]</td>\n      <td>a violência agravou-se brutalmente</td>\n      <td>Fact</td>\n    </tr>\n    <tr>\n      <th>15430</th>\n      <td>5cde31c4896a7fea063370a5</td>\n      <td>A</td>\n      <td>7</td>\n      <td>[[998, 1044]]</td>\n      <td>os governos desconhecem a realidade desportiva</td>\n      <td>Value(-)</td>\n    </tr>\n    <tr>\n      <th>15449</th>\n      <td>5cde31c4896a7fea063370a5</td>\n      <td>B</td>\n      <td>7</td>\n      <td>[[998, 1044]]</td>\n      <td>os governos desconhecem a realidade desportiva</td>\n      <td>Value</td>\n    </tr>\n    <tr>\n      <th>15467</th>\n      <td>5cde31c4896a7fea063370a5</td>\n      <td>C</td>\n      <td>8</td>\n      <td>[[998, 1044]]</td>\n      <td>os governos desconhecem a realidade desportiva</td>\n      <td>Value(-)</td>\n    </tr>\n  </tbody>\n</table>\n<p>8392 rows × 6 columns</p>\n</div>"
     },
     "metadata": {},
     "execution_count": 8
    }
   ],
   "source": [
    "repADUs=adus[adus.duplicated(['ranges', 'article_id'], keep=False)].sort_values(by=['ranges'])\n",
    "repADUs"
   ]
  },
  {
   "cell_type": "markdown",
   "metadata": {},
   "source": [
    "Get all the rows where the same ADUs got a different label:"
   ]
  },
  {
   "cell_type": "code",
   "execution_count": 9,
   "metadata": {},
   "outputs": [
    {
     "output_type": "execute_result",
     "data": {
      "text/plain": "                     article_id annotator  node         ranges  \\\n3428   5cf47371896a7fea06009c23         B     0     [[0, 101]]   \n1654   5d04c505896a7fea06a0fabc         A     0     [[0, 104]]   \n1669   5d04c505896a7fea06a0fabc         B     0     [[0, 104]]   \n6587   5cf4675d896a7fea06ffe0fe         C     0     [[0, 105]]   \n4654   5cf47065896a7fea060065b5         C     1     [[0, 108]]   \n...                         ...       ...   ...            ...   \n5481   5cf46c00896a7fea06002671         C    13  [[997, 1072]]   \n9104   5cf462de896a7fea06ff9495         B     5  [[998, 1032]]   \n9146   5cf462de896a7fea06ff9495         D     6  [[998, 1032]]   \n15430  5cde31c4896a7fea063370a5         A     7  [[998, 1044]]   \n15449  5cde31c4896a7fea063370a5         B     7  [[998, 1044]]   \n\n                                                  tokens     label  \n3428   A fase da desconfiança em relação à sobrevivên...     Value  \n1654   Em dezembro do ano passado Fernando Medina ava...     Value  \n1669   Em dezembro do ano passado Fernando Medina ava...      Fact  \n6587   Já lá vão uns valentes séculos desde que o Mar...      Fact  \n4654   As instituições de ensino superior portuguesas...  Value(+)  \n...                                                  ...       ...  \n5481   que disponibilize os resultados da investigaçã...    Policy  \n9104                  a violência agravou-se brutalmente  Value(-)  \n9146                  a violência agravou-se brutalmente      Fact  \n15430     os governos desconhecem a realidade desportiva  Value(-)  \n15449     os governos desconhecem a realidade desportiva     Value  \n\n[5510 rows x 6 columns]",
      "text/html": "<div>\n<style scoped>\n    .dataframe tbody tr th:only-of-type {\n        vertical-align: middle;\n    }\n\n    .dataframe tbody tr th {\n        vertical-align: top;\n    }\n\n    .dataframe thead th {\n        text-align: right;\n    }\n</style>\n<table border=\"1\" class=\"dataframe\">\n  <thead>\n    <tr style=\"text-align: right;\">\n      <th></th>\n      <th>article_id</th>\n      <th>annotator</th>\n      <th>node</th>\n      <th>ranges</th>\n      <th>tokens</th>\n      <th>label</th>\n    </tr>\n  </thead>\n  <tbody>\n    <tr>\n      <th>3428</th>\n      <td>5cf47371896a7fea06009c23</td>\n      <td>B</td>\n      <td>0</td>\n      <td>[[0, 101]]</td>\n      <td>A fase da desconfiança em relação à sobrevivên...</td>\n      <td>Value</td>\n    </tr>\n    <tr>\n      <th>1654</th>\n      <td>5d04c505896a7fea06a0fabc</td>\n      <td>A</td>\n      <td>0</td>\n      <td>[[0, 104]]</td>\n      <td>Em dezembro do ano passado Fernando Medina ava...</td>\n      <td>Value</td>\n    </tr>\n    <tr>\n      <th>1669</th>\n      <td>5d04c505896a7fea06a0fabc</td>\n      <td>B</td>\n      <td>0</td>\n      <td>[[0, 104]]</td>\n      <td>Em dezembro do ano passado Fernando Medina ava...</td>\n      <td>Fact</td>\n    </tr>\n    <tr>\n      <th>6587</th>\n      <td>5cf4675d896a7fea06ffe0fe</td>\n      <td>C</td>\n      <td>0</td>\n      <td>[[0, 105]]</td>\n      <td>Já lá vão uns valentes séculos desde que o Mar...</td>\n      <td>Fact</td>\n    </tr>\n    <tr>\n      <th>4654</th>\n      <td>5cf47065896a7fea060065b5</td>\n      <td>C</td>\n      <td>1</td>\n      <td>[[0, 108]]</td>\n      <td>As instituições de ensino superior portuguesas...</td>\n      <td>Value(+)</td>\n    </tr>\n    <tr>\n      <th>...</th>\n      <td>...</td>\n      <td>...</td>\n      <td>...</td>\n      <td>...</td>\n      <td>...</td>\n      <td>...</td>\n    </tr>\n    <tr>\n      <th>5481</th>\n      <td>5cf46c00896a7fea06002671</td>\n      <td>C</td>\n      <td>13</td>\n      <td>[[997, 1072]]</td>\n      <td>que disponibilize os resultados da investigaçã...</td>\n      <td>Policy</td>\n    </tr>\n    <tr>\n      <th>9104</th>\n      <td>5cf462de896a7fea06ff9495</td>\n      <td>B</td>\n      <td>5</td>\n      <td>[[998, 1032]]</td>\n      <td>a violência agravou-se brutalmente</td>\n      <td>Value(-)</td>\n    </tr>\n    <tr>\n      <th>9146</th>\n      <td>5cf462de896a7fea06ff9495</td>\n      <td>D</td>\n      <td>6</td>\n      <td>[[998, 1032]]</td>\n      <td>a violência agravou-se brutalmente</td>\n      <td>Fact</td>\n    </tr>\n    <tr>\n      <th>15430</th>\n      <td>5cde31c4896a7fea063370a5</td>\n      <td>A</td>\n      <td>7</td>\n      <td>[[998, 1044]]</td>\n      <td>os governos desconhecem a realidade desportiva</td>\n      <td>Value(-)</td>\n    </tr>\n    <tr>\n      <th>15449</th>\n      <td>5cde31c4896a7fea063370a5</td>\n      <td>B</td>\n      <td>7</td>\n      <td>[[998, 1044]]</td>\n      <td>os governos desconhecem a realidade desportiva</td>\n      <td>Value</td>\n    </tr>\n  </tbody>\n</table>\n<p>5510 rows × 6 columns</p>\n</div>"
     },
     "metadata": {},
     "execution_count": 9
    }
   ],
   "source": [
    "difADUs=repADUs.drop_duplicates(subset=['article_id','ranges','label']).sort_values(by=['ranges'])\n",
    "difADUs"
   ]
  },
  {
   "cell_type": "markdown",
   "metadata": {},
   "source": [
    "Get all tokens in which there were different labels assigned:"
   ]
  },
  {
   "cell_type": "code",
   "execution_count": 10,
   "metadata": {},
   "outputs": [
    {
     "output_type": "execute_result",
     "data": {
      "text/plain": "                     article_id annotator  node         ranges  \\\n1654   5d04c505896a7fea06a0fabc         A     0     [[0, 104]]   \n1669   5d04c505896a7fea06a0fabc         B     0     [[0, 104]]   \n4654   5cf47065896a7fea060065b5         C     1     [[0, 108]]   \n4691   5cf47065896a7fea060065b5         D     0     [[0, 108]]   \n15413  5cddb333896a7fea062e8b18         B     0     [[0, 109]]   \n...                         ...       ...   ...            ...   \n5481   5cf46c00896a7fea06002671         C    13  [[997, 1072]]   \n9104   5cf462de896a7fea06ff9495         B     5  [[998, 1032]]   \n9146   5cf462de896a7fea06ff9495         D     6  [[998, 1032]]   \n15430  5cde31c4896a7fea063370a5         A     7  [[998, 1044]]   \n15449  5cde31c4896a7fea063370a5         B     7  [[998, 1044]]   \n\n                                                  tokens     label  \n1654   Em dezembro do ano passado Fernando Medina ava...     Value  \n1669   Em dezembro do ano passado Fernando Medina ava...      Fact  \n4654   As instituições de ensino superior portuguesas...  Value(+)  \n4691   As instituições de ensino superior portuguesas...     Value  \n15413  Uma olimpíada da ciência da União Europeia ser...  Value(+)  \n...                                                  ...       ...  \n5481   que disponibilize os resultados da investigaçã...    Policy  \n9104                  a violência agravou-se brutalmente  Value(-)  \n9146                  a violência agravou-se brutalmente      Fact  \n15430     os governos desconhecem a realidade desportiva  Value(-)  \n15449     os governos desconhecem a realidade desportiva     Value  \n\n[3608 rows x 6 columns]",
      "text/html": "<div>\n<style scoped>\n    .dataframe tbody tr th:only-of-type {\n        vertical-align: middle;\n    }\n\n    .dataframe tbody tr th {\n        vertical-align: top;\n    }\n\n    .dataframe thead th {\n        text-align: right;\n    }\n</style>\n<table border=\"1\" class=\"dataframe\">\n  <thead>\n    <tr style=\"text-align: right;\">\n      <th></th>\n      <th>article_id</th>\n      <th>annotator</th>\n      <th>node</th>\n      <th>ranges</th>\n      <th>tokens</th>\n      <th>label</th>\n    </tr>\n  </thead>\n  <tbody>\n    <tr>\n      <th>1654</th>\n      <td>5d04c505896a7fea06a0fabc</td>\n      <td>A</td>\n      <td>0</td>\n      <td>[[0, 104]]</td>\n      <td>Em dezembro do ano passado Fernando Medina ava...</td>\n      <td>Value</td>\n    </tr>\n    <tr>\n      <th>1669</th>\n      <td>5d04c505896a7fea06a0fabc</td>\n      <td>B</td>\n      <td>0</td>\n      <td>[[0, 104]]</td>\n      <td>Em dezembro do ano passado Fernando Medina ava...</td>\n      <td>Fact</td>\n    </tr>\n    <tr>\n      <th>4654</th>\n      <td>5cf47065896a7fea060065b5</td>\n      <td>C</td>\n      <td>1</td>\n      <td>[[0, 108]]</td>\n      <td>As instituições de ensino superior portuguesas...</td>\n      <td>Value(+)</td>\n    </tr>\n    <tr>\n      <th>4691</th>\n      <td>5cf47065896a7fea060065b5</td>\n      <td>D</td>\n      <td>0</td>\n      <td>[[0, 108]]</td>\n      <td>As instituições de ensino superior portuguesas...</td>\n      <td>Value</td>\n    </tr>\n    <tr>\n      <th>15413</th>\n      <td>5cddb333896a7fea062e8b18</td>\n      <td>B</td>\n      <td>0</td>\n      <td>[[0, 109]]</td>\n      <td>Uma olimpíada da ciência da União Europeia ser...</td>\n      <td>Value(+)</td>\n    </tr>\n    <tr>\n      <th>...</th>\n      <td>...</td>\n      <td>...</td>\n      <td>...</td>\n      <td>...</td>\n      <td>...</td>\n      <td>...</td>\n    </tr>\n    <tr>\n      <th>5481</th>\n      <td>5cf46c00896a7fea06002671</td>\n      <td>C</td>\n      <td>13</td>\n      <td>[[997, 1072]]</td>\n      <td>que disponibilize os resultados da investigaçã...</td>\n      <td>Policy</td>\n    </tr>\n    <tr>\n      <th>9104</th>\n      <td>5cf462de896a7fea06ff9495</td>\n      <td>B</td>\n      <td>5</td>\n      <td>[[998, 1032]]</td>\n      <td>a violência agravou-se brutalmente</td>\n      <td>Value(-)</td>\n    </tr>\n    <tr>\n      <th>9146</th>\n      <td>5cf462de896a7fea06ff9495</td>\n      <td>D</td>\n      <td>6</td>\n      <td>[[998, 1032]]</td>\n      <td>a violência agravou-se brutalmente</td>\n      <td>Fact</td>\n    </tr>\n    <tr>\n      <th>15430</th>\n      <td>5cde31c4896a7fea063370a5</td>\n      <td>A</td>\n      <td>7</td>\n      <td>[[998, 1044]]</td>\n      <td>os governos desconhecem a realidade desportiva</td>\n      <td>Value(-)</td>\n    </tr>\n    <tr>\n      <th>15449</th>\n      <td>5cde31c4896a7fea063370a5</td>\n      <td>B</td>\n      <td>7</td>\n      <td>[[998, 1044]]</td>\n      <td>os governos desconhecem a realidade desportiva</td>\n      <td>Value</td>\n    </tr>\n  </tbody>\n</table>\n<p>3608 rows × 6 columns</p>\n</div>"
     },
     "metadata": {},
     "execution_count": 10
    }
   ],
   "source": [
    "difADUs[difADUs.duplicated(['article_id','ranges'], keep=False)].sort_values(by=['ranges'])\n"
   ]
  },
  {
   "cell_type": "markdown",
   "metadata": {},
   "source": [
    "### Split the dataset by annotators"
   ]
  },
  {
   "cell_type": "code",
   "execution_count": 11,
   "metadata": {},
   "outputs": [],
   "source": [
    "dfA= adus.loc[adus['annotator'] == 'A']\n",
    "dfB= adus.loc[adus['annotator'] == 'B']\n",
    "dfC= adus.loc[adus['annotator'] == 'C']\n",
    "dfD= adus.loc[adus['annotator'] == 'D']"
   ]
  },
  {
   "cell_type": "markdown",
   "metadata": {},
   "source": [
    "### Get only the token and label collumns"
   ]
  },
  {
   "cell_type": "code",
   "execution_count": 12,
   "metadata": {},
   "outputs": [],
   "source": [
    "def getTokenLabelcollumns(df):\n",
    "    return(df[['tokens', 'label']])"
   ]
  },
  {
   "cell_type": "markdown",
   "metadata": {},
   "source": [
    "## Baseline\n",
    "\n",
    "Here we will define some standard helper functions that will be used throughout this notebook.  \n",
    "\n",
    "### Building a standard corpus\n",
    "\n",
    "With this function, by giving a stemmer and a dataframe, a corpus is built, applying some simple cleaning tasks, such as removing stop words and upper cases. One thing to have in mind is that the dataset is in portuguese, the standard english versions need to be changed to portuguese."
   ]
  },
  {
   "cell_type": "code",
   "execution_count": 40,
   "metadata": {
    "tags": [
     "outputPrepend",
     "outputPrepend",
     "outputPrepend",
     "outputPrepend",
     "outputPrepend",
     "outputPrepend",
     "outputPrepend"
    ]
   },
   "outputs": [],
   "source": [
    "def buildCorpus(df):\n",
    "    df=df[['tokens', 'label']]\n",
    "    corpus = []\n",
    "\n",
    "    stemmer= SnowballStemmer('portuguese')\n",
    "    for i in df.itertuples():\n",
    "        # get token and remove non alpha chars\n",
    "        token= unidecode.unidecode(i.tokens)\n",
    "        token = re.sub('[^a-zA-Z]', ' ', token)\n",
    "        # to lower-case\n",
    "        token =  token.lower()\n",
    "        # split into tokens, apply stemming and remove stop words\n",
    "        token = ' '.join([stemmer.stem(w) for w in token.split() if not w in set(stopwords.words('portuguese'))])\n",
    "        corpus.append(token)\n",
    "    return corpus"
   ]
  },
  {
   "cell_type": "code",
   "execution_count": 41,
   "metadata": {
    "tags": [
     "outputPrepend",
     "outputPrepend",
     "outputPrepend",
     "outputPrepend",
     "outputPrepend",
     "outputPrepend",
     "outputPrepend",
     "outputPrepend",
     "outputPrepend",
     "outputPrepend",
     "outputPrepend",
     "outputPrepend",
     "outputPrepend",
     "outputPrepend",
     "outputPrepend",
     "outputPrepend",
     "outputPrepend",
     "outputPrepend",
     "outputPrepend",
     "outputPrepend",
     "outputPrepend",
     "outputPrepend",
     "outputPrepend",
     "outputPrepend",
     "outputPrepend",
     "outputPrepend",
     "outputPrepend",
     "outputPrepend",
     "outputPrepend",
     "outputPrepend",
     "outputPrepend",
     "outputPrepend",
     "outputPrepend",
     "outputPrepend",
     "outputPrepend",
     "outputPrepend",
     "outputPrepend",
     "outputPrepend",
     "outputPrepend",
     "outputPrepend",
     "outputPrepend",
     "outputPrepend",
     "outputPrepend",
     "outputPrepend",
     "outputPrepend",
     "outputPrepend",
     "outputPrepend",
     "outputPrepend",
     "outputPrepend",
     "outputPrepend",
     "outputPrepend",
     "outputPrepend",
     "outputPrepend",
     "outputPrepend",
     "outputPrepend",
     "outputPrepend",
     "outputPrepend",
     "outputPrepend",
     "outputPrepend",
     "outputPrepend",
     "outputPrepend",
     "outputPrepend",
     "outputPrepend",
     "outputPrepend",
     "outputPrepend",
     "outputPrepend",
     "outputPrepend",
     "outputPrepend",
     "outputPrepend",
     "outputPrepend",
     "outputPrepend",
     "outputPrepend",
     "outputPrepend",
     "outputPrepend",
     "outputPrepend",
     "outputPrepend",
     "outputPrepend",
     "outputPrepend",
     "outputPrepend"
    ]
   },
   "outputs": [],
   "source": [
    "corpusA= buildCorpus(dfA)"
   ]
  },
  {
   "cell_type": "markdown",
   "metadata": {},
   "source": [
    "### Build bag of words Model"
   ]
  },
  {
   "cell_type": "code",
   "execution_count": 42,
   "metadata": {},
   "outputs": [],
   "source": [
    "def bagOfWords(corpus):\n",
    "    vectorizer = CountVectorizer()\n",
    "    X = vectorizer.fit_transform(corpus).toarray()\n",
    "    return X"
   ]
  },
  {
   "cell_type": "markdown",
   "metadata": {},
   "source": [
    "### Split the dataset in train and test"
   ]
  },
  {
   "cell_type": "code",
   "execution_count": 43,
   "metadata": {},
   "outputs": [],
   "source": [
    "def split(corpus):\n",
    "    X=bagOfWords(corpus)\n",
    "    y=dfA['label']\n",
    "    X_train, X_test, y_train, y_test = train_test_split(X, y, test_size = 0.20)\n",
    "    return  X_train, X_test, y_train, y_test\n"
   ]
  },
  {
   "cell_type": "markdown",
   "metadata": {},
   "source": [
    "### Making the Classifier\n",
    "For the baseline, let's try Naive Bayes"
   ]
  },
  {
   "cell_type": "code",
   "execution_count": 44,
   "metadata": {},
   "outputs": [],
   "source": [
    "X_train, X_test, y_train, y_test= split (corpusA)\n",
    "clf = MultinomialNB()\n",
    "clf.fit(X_train, y_train)\n",
    "pred = clf.predict(X_test)"
   ]
  },
  {
   "cell_type": "markdown",
   "metadata": {},
   "source": [
    "### Metrics for evaluation"
   ]
  },
  {
   "cell_type": "code",
   "execution_count": 59,
   "metadata": {},
   "outputs": [],
   "source": [
    "def evaluation(pred):\n",
    "    report = classification_report(y_test, pred, output_dict=True,zero_division= 0)\n",
    "\n",
    "    print(f\"Report:\\n{classification_report(y_test, pred,zero_division= 0)}\\n\")\n",
    "\n",
    "    sb.set(font_scale=1.0)\n",
    "    labels=[\"Fact\", \"Policy\", \"Value\",\"Value(+)\",\"Value(-)\"];\n",
    "    i=0;\n",
    "    cm = confusion_matrix(y_test, pred,labels=[\"Fact\", \"Policy\", \"Value\",\"Value(+)\",\"Value(-)\"])\n",
    "    ax = plt.subplot()\n",
    "    sb.heatmap(cm, annot=True, ax=ax, fmt=\"g\")\n",
    "\n",
    "    ax.set_xlabel('Predicted');\n",
    "    ax.set_ylabel('Observed');\n",
    "    ax.xaxis.set_ticklabels(labels); \n",
    "    ax.yaxis.set_ticklabels(labels);\n",
    "    ax.set_title(\"Confusion Matrix: \");\n",
    "    plt.show()\n",
    "    i+=1;\n",
    "\n"
   ]
  },
  {
   "cell_type": "markdown",
   "metadata": {},
   "source": [
    "### Evaluate the results"
   ]
  },
  {
   "cell_type": "code",
   "execution_count": 60,
   "metadata": {},
   "outputs": [
    {
     "output_type": "stream",
     "name": "stdout",
     "text": "Report:\n              precision    recall  f1-score   support\n\n        Fact       0.51      0.28      0.36       128\n      Policy       0.00      0.00      0.00        13\n       Value       0.67      0.90      0.77       424\n    Value(+)       0.17      0.04      0.06        28\n    Value(-)       0.41      0.12      0.19        74\n\n    accuracy                           0.64       667\n   macro avg       0.35      0.27      0.28       667\nweighted avg       0.58      0.64      0.58       667\n\n\n"
    },
    {
     "output_type": "display_data",
     "data": {
      "text/plain": "<Figure size 432x288 with 2 Axes>",
      "image/svg+xml": "<?xml version=\"1.0\" encoding=\"utf-8\" standalone=\"no\"?>\n<!DOCTYPE svg PUBLIC \"-//W3C//DTD SVG 1.1//EN\"\n  \"http://www.w3.org/Graphics/SVG/1.1/DTD/svg11.dtd\">\n<svg xmlns:xlink=\"http://www.w3.org/1999/xlink\" width=\"372.500281pt\" height=\"281.226562pt\" viewBox=\"0 0 372.500281 281.226562\" xmlns=\"http://www.w3.org/2000/svg\" version=\"1.1\">\n <metadata>\n  <rdf:RDF xmlns:dc=\"http://purl.org/dc/elements/1.1/\" xmlns:cc=\"http://creativecommons.org/ns#\" xmlns:rdf=\"http://www.w3.org/1999/02/22-rdf-syntax-ns#\">\n   <cc:Work>\n    <dc:type rdf:resource=\"http://purl.org/dc/dcmitype/StillImage\"/>\n    <dc:date>2022-04-10T15:45:00.412148</dc:date>\n    <dc:format>image/svg+xml</dc:format>\n    <dc:creator>\n     <cc:Agent>\n      <dc:title>Matplotlib v3.5.0, https://matplotlib.org/</dc:title>\n     </cc:Agent>\n    </dc:creator>\n   </cc:Work>\n  </rdf:RDF>\n </metadata>\n <defs>\n  <style type=\"text/css\">*{stroke-linejoin: round; stroke-linecap: butt}</style>\n </defs>\n <g id=\"figure_1\">\n  <g id=\"patch_1\">\n   <path d=\"M 0 281.226562 \nL 372.500281 281.226562 \nL 372.500281 0 \nL 0 0 \nz\n\" style=\"fill: #ffffff\"/>\n  </g>\n  <g id=\"axes_1\">\n   <g id=\"patch_2\">\n    <path d=\"M 41.997187 239.229375 \nL 309.837188 239.229375 \nL 309.837188 21.789375 \nL 41.997187 21.789375 \nz\n\" style=\"fill: #eaeaf2\"/>\n   </g>\n   <g id=\"matplotlib.axis_1\">\n    <g id=\"xtick_1\">\n     <g id=\"text_1\">\n      <!-- Fact -->\n      <g style=\"fill: #262626\" transform=\"translate(58.085406 256.602969)scale(0.11 -0.11)\">\n       <defs>\n        <path id=\"ArialMT-46\" d=\"M 525 0 \nL 525 4581 \nL 3616 4581 \nL 3616 4041 \nL 1131 4041 \nL 1131 2622 \nL 3281 2622 \nL 3281 2081 \nL 1131 2081 \nL 1131 0 \nL 525 0 \nz\n\" transform=\"scale(0.015625)\"/>\n        <path id=\"ArialMT-61\" d=\"M 2588 409 \nQ 2275 144 1986 34 \nQ 1697 -75 1366 -75 \nQ 819 -75 525 192 \nQ 231 459 231 875 \nQ 231 1119 342 1320 \nQ 453 1522 633 1644 \nQ 813 1766 1038 1828 \nQ 1203 1872 1538 1913 \nQ 2219 1994 2541 2106 \nQ 2544 2222 2544 2253 \nQ 2544 2597 2384 2738 \nQ 2169 2928 1744 2928 \nQ 1347 2928 1158 2789 \nQ 969 2650 878 2297 \nL 328 2372 \nQ 403 2725 575 2942 \nQ 747 3159 1072 3276 \nQ 1397 3394 1825 3394 \nQ 2250 3394 2515 3294 \nQ 2781 3194 2906 3042 \nQ 3031 2891 3081 2659 \nQ 3109 2516 3109 2141 \nL 3109 1391 \nQ 3109 606 3145 398 \nQ 3181 191 3288 0 \nL 2700 0 \nQ 2613 175 2588 409 \nz\nM 2541 1666 \nQ 2234 1541 1622 1453 \nQ 1275 1403 1131 1340 \nQ 988 1278 909 1158 \nQ 831 1038 831 891 \nQ 831 666 1001 516 \nQ 1172 366 1500 366 \nQ 1825 366 2078 508 \nQ 2331 650 2450 897 \nQ 2541 1088 2541 1459 \nL 2541 1666 \nz\n\" transform=\"scale(0.015625)\"/>\n        <path id=\"ArialMT-63\" d=\"M 2588 1216 \nL 3141 1144 \nQ 3050 572 2676 248 \nQ 2303 -75 1759 -75 \nQ 1078 -75 664 370 \nQ 250 816 250 1647 \nQ 250 2184 428 2587 \nQ 606 2991 970 3192 \nQ 1334 3394 1763 3394 \nQ 2303 3394 2647 3120 \nQ 2991 2847 3088 2344 \nL 2541 2259 \nQ 2463 2594 2264 2762 \nQ 2066 2931 1784 2931 \nQ 1359 2931 1093 2626 \nQ 828 2322 828 1663 \nQ 828 994 1084 691 \nQ 1341 388 1753 388 \nQ 2084 388 2306 591 \nQ 2528 794 2588 1216 \nz\n\" transform=\"scale(0.015625)\"/>\n        <path id=\"ArialMT-74\" d=\"M 1650 503 \nL 1731 6 \nQ 1494 -44 1306 -44 \nQ 1000 -44 831 53 \nQ 663 150 594 308 \nQ 525 466 525 972 \nL 525 2881 \nL 113 2881 \nL 113 3319 \nL 525 3319 \nL 525 4141 \nL 1084 4478 \nL 1084 3319 \nL 1650 3319 \nL 1650 2881 \nL 1084 2881 \nL 1084 941 \nQ 1084 700 1114 631 \nQ 1144 563 1211 522 \nQ 1278 481 1403 481 \nQ 1497 481 1650 503 \nz\n\" transform=\"scale(0.015625)\"/>\n       </defs>\n       <use xlink:href=\"#ArialMT-46\"/>\n       <use xlink:href=\"#ArialMT-61\" x=\"61.083984\"/>\n       <use xlink:href=\"#ArialMT-63\" x=\"116.699219\"/>\n       <use xlink:href=\"#ArialMT-74\" x=\"166.699219\"/>\n      </g>\n     </g>\n    </g>\n    <g id=\"xtick_2\">\n     <g id=\"text_2\">\n      <!-- Policy -->\n      <g style=\"fill: #262626\" transform=\"translate(107.677938 256.602969)scale(0.11 -0.11)\">\n       <defs>\n        <path id=\"ArialMT-50\" d=\"M 494 0 \nL 494 4581 \nL 2222 4581 \nQ 2678 4581 2919 4538 \nQ 3256 4481 3484 4323 \nQ 3713 4166 3852 3881 \nQ 3991 3597 3991 3256 \nQ 3991 2672 3619 2267 \nQ 3247 1863 2275 1863 \nL 1100 1863 \nL 1100 0 \nL 494 0 \nz\nM 1100 2403 \nL 2284 2403 \nQ 2872 2403 3119 2622 \nQ 3366 2841 3366 3238 \nQ 3366 3525 3220 3729 \nQ 3075 3934 2838 4000 \nQ 2684 4041 2272 4041 \nL 1100 4041 \nL 1100 2403 \nz\n\" transform=\"scale(0.015625)\"/>\n        <path id=\"ArialMT-6f\" d=\"M 213 1659 \nQ 213 2581 725 3025 \nQ 1153 3394 1769 3394 \nQ 2453 3394 2887 2945 \nQ 3322 2497 3322 1706 \nQ 3322 1066 3130 698 \nQ 2938 331 2570 128 \nQ 2203 -75 1769 -75 \nQ 1072 -75 642 372 \nQ 213 819 213 1659 \nz\nM 791 1659 \nQ 791 1022 1069 705 \nQ 1347 388 1769 388 \nQ 2188 388 2466 706 \nQ 2744 1025 2744 1678 \nQ 2744 2294 2464 2611 \nQ 2184 2928 1769 2928 \nQ 1347 2928 1069 2612 \nQ 791 2297 791 1659 \nz\n\" transform=\"scale(0.015625)\"/>\n        <path id=\"ArialMT-6c\" d=\"M 409 0 \nL 409 4581 \nL 972 4581 \nL 972 0 \nL 409 0 \nz\n\" transform=\"scale(0.015625)\"/>\n        <path id=\"ArialMT-69\" d=\"M 425 3934 \nL 425 4581 \nL 988 4581 \nL 988 3934 \nL 425 3934 \nz\nM 425 0 \nL 425 3319 \nL 988 3319 \nL 988 0 \nL 425 0 \nz\n\" transform=\"scale(0.015625)\"/>\n        <path id=\"ArialMT-79\" d=\"M 397 -1278 \nL 334 -750 \nQ 519 -800 656 -800 \nQ 844 -800 956 -737 \nQ 1069 -675 1141 -563 \nQ 1194 -478 1313 -144 \nQ 1328 -97 1363 -6 \nL 103 3319 \nL 709 3319 \nL 1400 1397 \nQ 1534 1031 1641 628 \nQ 1738 1016 1872 1384 \nL 2581 3319 \nL 3144 3319 \nL 1881 -56 \nQ 1678 -603 1566 -809 \nQ 1416 -1088 1222 -1217 \nQ 1028 -1347 759 -1347 \nQ 597 -1347 397 -1278 \nz\n\" transform=\"scale(0.015625)\"/>\n       </defs>\n       <use xlink:href=\"#ArialMT-50\"/>\n       <use xlink:href=\"#ArialMT-6f\" x=\"66.699219\"/>\n       <use xlink:href=\"#ArialMT-6c\" x=\"122.314453\"/>\n       <use xlink:href=\"#ArialMT-69\" x=\"144.53125\"/>\n       <use xlink:href=\"#ArialMT-63\" x=\"166.748047\"/>\n       <use xlink:href=\"#ArialMT-79\" x=\"216.748047\"/>\n      </g>\n     </g>\n    </g>\n    <g id=\"xtick_3\">\n     <g id=\"text_3\">\n      <!-- Value -->\n      <g style=\"fill: #262626\" transform=\"translate(162.256563 256.602969)scale(0.11 -0.11)\">\n       <defs>\n        <path id=\"ArialMT-56\" d=\"M 1803 0 \nL 28 4581 \nL 684 4581 \nL 1875 1253 \nQ 2019 853 2116 503 \nQ 2222 878 2363 1253 \nL 3600 4581 \nL 4219 4581 \nL 2425 0 \nL 1803 0 \nz\n\" transform=\"scale(0.015625)\"/>\n        <path id=\"ArialMT-75\" d=\"M 2597 0 \nL 2597 488 \nQ 2209 -75 1544 -75 \nQ 1250 -75 995 37 \nQ 741 150 617 320 \nQ 494 491 444 738 \nQ 409 903 409 1263 \nL 409 3319 \nL 972 3319 \nL 972 1478 \nQ 972 1038 1006 884 \nQ 1059 663 1231 536 \nQ 1403 409 1656 409 \nQ 1909 409 2131 539 \nQ 2353 669 2445 892 \nQ 2538 1116 2538 1541 \nL 2538 3319 \nL 3100 3319 \nL 3100 0 \nL 2597 0 \nz\n\" transform=\"scale(0.015625)\"/>\n        <path id=\"ArialMT-65\" d=\"M 2694 1069 \nL 3275 997 \nQ 3138 488 2766 206 \nQ 2394 -75 1816 -75 \nQ 1088 -75 661 373 \nQ 234 822 234 1631 \nQ 234 2469 665 2931 \nQ 1097 3394 1784 3394 \nQ 2450 3394 2872 2941 \nQ 3294 2488 3294 1666 \nQ 3294 1616 3291 1516 \nL 816 1516 \nQ 847 969 1125 678 \nQ 1403 388 1819 388 \nQ 2128 388 2347 550 \nQ 2566 713 2694 1069 \nz\nM 847 1978 \nL 2700 1978 \nQ 2663 2397 2488 2606 \nQ 2219 2931 1791 2931 \nQ 1403 2931 1139 2672 \nQ 875 2413 847 1978 \nz\n\" transform=\"scale(0.015625)\"/>\n       </defs>\n       <use xlink:href=\"#ArialMT-56\"/>\n       <use xlink:href=\"#ArialMT-61\" x=\"59.324219\"/>\n       <use xlink:href=\"#ArialMT-6c\" x=\"114.939453\"/>\n       <use xlink:href=\"#ArialMT-75\" x=\"137.15625\"/>\n       <use xlink:href=\"#ArialMT-65\" x=\"192.771484\"/>\n      </g>\n     </g>\n    </g>\n    <g id=\"xtick_4\">\n     <g id=\"text_4\">\n      <!-- Value(+) -->\n      <g style=\"fill: #262626\" transform=\"translate(208.949563 256.737031)scale(0.11 -0.11)\">\n       <defs>\n        <path id=\"ArialMT-28\" d=\"M 1497 -1347 \nQ 1031 -759 709 28 \nQ 388 816 388 1659 \nQ 388 2403 628 3084 \nQ 909 3875 1497 4659 \nL 1900 4659 \nQ 1522 4009 1400 3731 \nQ 1209 3300 1100 2831 \nQ 966 2247 966 1656 \nQ 966 153 1900 -1347 \nL 1497 -1347 \nz\n\" transform=\"scale(0.015625)\"/>\n        <path id=\"ArialMT-2b\" d=\"M 1603 741 \nL 1603 1997 \nL 356 1997 \nL 356 2522 \nL 1603 2522 \nL 1603 3769 \nL 2134 3769 \nL 2134 2522 \nL 3381 2522 \nL 3381 1997 \nL 2134 1997 \nL 2134 741 \nL 1603 741 \nz\n\" transform=\"scale(0.015625)\"/>\n        <path id=\"ArialMT-29\" d=\"M 791 -1347 \nL 388 -1347 \nQ 1322 153 1322 1656 \nQ 1322 2244 1188 2822 \nQ 1081 3291 891 3722 \nQ 769 4003 388 4659 \nL 791 4659 \nQ 1378 3875 1659 3084 \nQ 1900 2403 1900 1659 \nQ 1900 816 1576 28 \nQ 1253 -759 791 -1347 \nz\n\" transform=\"scale(0.015625)\"/>\n       </defs>\n       <use xlink:href=\"#ArialMT-56\"/>\n       <use xlink:href=\"#ArialMT-61\" x=\"59.324219\"/>\n       <use xlink:href=\"#ArialMT-6c\" x=\"114.939453\"/>\n       <use xlink:href=\"#ArialMT-75\" x=\"137.15625\"/>\n       <use xlink:href=\"#ArialMT-65\" x=\"192.771484\"/>\n       <use xlink:href=\"#ArialMT-28\" x=\"248.386719\"/>\n       <use xlink:href=\"#ArialMT-2b\" x=\"281.6875\"/>\n       <use xlink:href=\"#ArialMT-29\" x=\"340.085938\"/>\n      </g>\n     </g>\n    </g>\n    <g id=\"xtick_5\">\n     <g id=\"text_5\">\n      <!-- Value(-) -->\n      <g style=\"fill: #262626\" transform=\"translate(263.898578 256.737031)scale(0.11 -0.11)\">\n       <defs>\n        <path id=\"ArialMT-2d\" d=\"M 203 1375 \nL 203 1941 \nL 1931 1941 \nL 1931 1375 \nL 203 1375 \nz\n\" transform=\"scale(0.015625)\"/>\n       </defs>\n       <use xlink:href=\"#ArialMT-56\"/>\n       <use xlink:href=\"#ArialMT-61\" x=\"59.324219\"/>\n       <use xlink:href=\"#ArialMT-6c\" x=\"114.939453\"/>\n       <use xlink:href=\"#ArialMT-75\" x=\"137.15625\"/>\n       <use xlink:href=\"#ArialMT-65\" x=\"192.771484\"/>\n       <use xlink:href=\"#ArialMT-28\" x=\"248.386719\"/>\n       <use xlink:href=\"#ArialMT-2d\" x=\"281.6875\"/>\n       <use xlink:href=\"#ArialMT-29\" x=\"314.988281\"/>\n      </g>\n     </g>\n    </g>\n    <g id=\"text_6\">\n     <!-- Predicted -->\n     <g style=\"fill: #262626\" transform=\"translate(150.570938 271.641563)scale(0.12 -0.12)\">\n      <defs>\n       <path id=\"ArialMT-72\" d=\"M 416 0 \nL 416 3319 \nL 922 3319 \nL 922 2816 \nQ 1116 3169 1280 3281 \nQ 1444 3394 1641 3394 \nQ 1925 3394 2219 3213 \nL 2025 2691 \nQ 1819 2813 1613 2813 \nQ 1428 2813 1281 2702 \nQ 1134 2591 1072 2394 \nQ 978 2094 978 1738 \nL 978 0 \nL 416 0 \nz\n\" transform=\"scale(0.015625)\"/>\n       <path id=\"ArialMT-64\" d=\"M 2575 0 \nL 2575 419 \nQ 2259 -75 1647 -75 \nQ 1250 -75 917 144 \nQ 584 363 401 755 \nQ 219 1147 219 1656 \nQ 219 2153 384 2558 \nQ 550 2963 881 3178 \nQ 1213 3394 1622 3394 \nQ 1922 3394 2156 3267 \nQ 2391 3141 2538 2938 \nL 2538 4581 \nL 3097 4581 \nL 3097 0 \nL 2575 0 \nz\nM 797 1656 \nQ 797 1019 1065 703 \nQ 1334 388 1700 388 \nQ 2069 388 2326 689 \nQ 2584 991 2584 1609 \nQ 2584 2291 2321 2609 \nQ 2059 2928 1675 2928 \nQ 1300 2928 1048 2622 \nQ 797 2316 797 1656 \nz\n\" transform=\"scale(0.015625)\"/>\n      </defs>\n      <use xlink:href=\"#ArialMT-50\"/>\n      <use xlink:href=\"#ArialMT-72\" x=\"66.699219\"/>\n      <use xlink:href=\"#ArialMT-65\" x=\"100\"/>\n      <use xlink:href=\"#ArialMT-64\" x=\"155.615234\"/>\n      <use xlink:href=\"#ArialMT-69\" x=\"211.230469\"/>\n      <use xlink:href=\"#ArialMT-63\" x=\"233.447266\"/>\n      <use xlink:href=\"#ArialMT-74\" x=\"283.447266\"/>\n      <use xlink:href=\"#ArialMT-65\" x=\"311.230469\"/>\n      <use xlink:href=\"#ArialMT-64\" x=\"366.845703\"/>\n     </g>\n    </g>\n   </g>\n   <g id=\"matplotlib.axis_2\">\n    <g id=\"ytick_1\">\n     <g id=\"text_7\">\n      <!-- Fact -->\n      <g style=\"fill: #262626\" transform=\"translate(30.310937 54.229156)rotate(-90)scale(0.11 -0.11)\">\n       <use xlink:href=\"#ArialMT-46\"/>\n       <use xlink:href=\"#ArialMT-61\" x=\"61.083984\"/>\n       <use xlink:href=\"#ArialMT-63\" x=\"116.699219\"/>\n       <use xlink:href=\"#ArialMT-74\" x=\"166.699219\"/>\n      </g>\n     </g>\n    </g>\n    <g id=\"ytick_2\">\n     <g id=\"text_8\">\n      <!-- Policy -->\n      <g style=\"fill: #262626\" transform=\"translate(30.182031 101.692625)rotate(-90)scale(0.11 -0.11)\">\n       <use xlink:href=\"#ArialMT-50\"/>\n       <use xlink:href=\"#ArialMT-6f\" x=\"66.699219\"/>\n       <use xlink:href=\"#ArialMT-6c\" x=\"122.314453\"/>\n       <use xlink:href=\"#ArialMT-69\" x=\"144.53125\"/>\n       <use xlink:href=\"#ArialMT-63\" x=\"166.748047\"/>\n       <use xlink:href=\"#ArialMT-79\" x=\"216.748047\"/>\n      </g>\n     </g>\n    </g>\n    <g id=\"ytick_3\">\n     <g id=\"text_9\">\n      <!-- Value -->\n      <g style=\"fill: #262626\" transform=\"translate(30.310937 144.17)rotate(-90)scale(0.11 -0.11)\">\n       <use xlink:href=\"#ArialMT-56\"/>\n       <use xlink:href=\"#ArialMT-61\" x=\"59.324219\"/>\n       <use xlink:href=\"#ArialMT-6c\" x=\"114.939453\"/>\n       <use xlink:href=\"#ArialMT-75\" x=\"137.15625\"/>\n       <use xlink:href=\"#ArialMT-65\" x=\"192.771484\"/>\n      </g>\n     </g>\n    </g>\n    <g id=\"ytick_4\">\n     <g id=\"text_10\">\n      <!-- Value(+) -->\n      <g style=\"fill: #262626\" transform=\"translate(30.182031 194.533)rotate(-90)scale(0.11 -0.11)\">\n       <use xlink:href=\"#ArialMT-56\"/>\n       <use xlink:href=\"#ArialMT-61\" x=\"59.324219\"/>\n       <use xlink:href=\"#ArialMT-6c\" x=\"114.939453\"/>\n       <use xlink:href=\"#ArialMT-75\" x=\"137.15625\"/>\n       <use xlink:href=\"#ArialMT-65\" x=\"192.771484\"/>\n       <use xlink:href=\"#ArialMT-28\" x=\"248.386719\"/>\n       <use xlink:href=\"#ArialMT-2b\" x=\"281.6875\"/>\n       <use xlink:href=\"#ArialMT-29\" x=\"340.085938\"/>\n      </g>\n     </g>\n    </g>\n    <g id=\"ytick_5\">\n     <g id=\"text_11\">\n      <!-- Value(-) -->\n      <g style=\"fill: #262626\" transform=\"translate(30.182031 236.639984)rotate(-90)scale(0.11 -0.11)\">\n       <use xlink:href=\"#ArialMT-56\"/>\n       <use xlink:href=\"#ArialMT-61\" x=\"59.324219\"/>\n       <use xlink:href=\"#ArialMT-6c\" x=\"114.939453\"/>\n       <use xlink:href=\"#ArialMT-75\" x=\"137.15625\"/>\n       <use xlink:href=\"#ArialMT-65\" x=\"192.771484\"/>\n       <use xlink:href=\"#ArialMT-28\" x=\"248.386719\"/>\n       <use xlink:href=\"#ArialMT-2d\" x=\"281.6875\"/>\n       <use xlink:href=\"#ArialMT-29\" x=\"314.988281\"/>\n      </g>\n     </g>\n    </g>\n    <g id=\"text_12\">\n     <!-- Observed -->\n     <g style=\"fill: #262626\" transform=\"translate(15.789375 156.520312)rotate(-90)scale(0.12 -0.12)\">\n      <defs>\n       <path id=\"ArialMT-4f\" d=\"M 309 2231 \nQ 309 3372 921 4017 \nQ 1534 4663 2503 4663 \nQ 3138 4663 3647 4359 \nQ 4156 4056 4423 3514 \nQ 4691 2972 4691 2284 \nQ 4691 1588 4409 1038 \nQ 4128 488 3612 205 \nQ 3097 -78 2500 -78 \nQ 1853 -78 1343 234 \nQ 834 547 571 1087 \nQ 309 1628 309 2231 \nz\nM 934 2222 \nQ 934 1394 1379 917 \nQ 1825 441 2497 441 \nQ 3181 441 3623 922 \nQ 4066 1403 4066 2288 \nQ 4066 2847 3877 3264 \nQ 3688 3681 3323 3911 \nQ 2959 4141 2506 4141 \nQ 1863 4141 1398 3698 \nQ 934 3256 934 2222 \nz\n\" transform=\"scale(0.015625)\"/>\n       <path id=\"ArialMT-62\" d=\"M 941 0 \nL 419 0 \nL 419 4581 \nL 981 4581 \nL 981 2947 \nQ 1338 3394 1891 3394 \nQ 2197 3394 2470 3270 \nQ 2744 3147 2920 2923 \nQ 3097 2700 3197 2384 \nQ 3297 2069 3297 1709 \nQ 3297 856 2875 390 \nQ 2453 -75 1863 -75 \nQ 1275 -75 941 416 \nL 941 0 \nz\nM 934 1684 \nQ 934 1088 1097 822 \nQ 1363 388 1816 388 \nQ 2184 388 2453 708 \nQ 2722 1028 2722 1663 \nQ 2722 2313 2464 2622 \nQ 2206 2931 1841 2931 \nQ 1472 2931 1203 2611 \nQ 934 2291 934 1684 \nz\n\" transform=\"scale(0.015625)\"/>\n       <path id=\"ArialMT-73\" d=\"M 197 991 \nL 753 1078 \nQ 800 744 1014 566 \nQ 1228 388 1613 388 \nQ 2000 388 2187 545 \nQ 2375 703 2375 916 \nQ 2375 1106 2209 1216 \nQ 2094 1291 1634 1406 \nQ 1016 1563 777 1677 \nQ 538 1791 414 1992 \nQ 291 2194 291 2438 \nQ 291 2659 392 2848 \nQ 494 3038 669 3163 \nQ 800 3259 1026 3326 \nQ 1253 3394 1513 3394 \nQ 1903 3394 2198 3281 \nQ 2494 3169 2634 2976 \nQ 2775 2784 2828 2463 \nL 2278 2388 \nQ 2241 2644 2061 2787 \nQ 1881 2931 1553 2931 \nQ 1166 2931 1000 2803 \nQ 834 2675 834 2503 \nQ 834 2394 903 2306 \nQ 972 2216 1119 2156 \nQ 1203 2125 1616 2013 \nQ 2213 1853 2448 1751 \nQ 2684 1650 2818 1456 \nQ 2953 1263 2953 975 \nQ 2953 694 2789 445 \nQ 2625 197 2315 61 \nQ 2006 -75 1616 -75 \nQ 969 -75 630 194 \nQ 291 463 197 991 \nz\n\" transform=\"scale(0.015625)\"/>\n       <path id=\"ArialMT-76\" d=\"M 1344 0 \nL 81 3319 \nL 675 3319 \nL 1388 1331 \nQ 1503 1009 1600 663 \nQ 1675 925 1809 1294 \nL 2547 3319 \nL 3125 3319 \nL 1869 0 \nL 1344 0 \nz\n\" transform=\"scale(0.015625)\"/>\n      </defs>\n      <use xlink:href=\"#ArialMT-4f\"/>\n      <use xlink:href=\"#ArialMT-62\" x=\"77.783203\"/>\n      <use xlink:href=\"#ArialMT-73\" x=\"133.398438\"/>\n      <use xlink:href=\"#ArialMT-65\" x=\"183.398438\"/>\n      <use xlink:href=\"#ArialMT-72\" x=\"239.013672\"/>\n      <use xlink:href=\"#ArialMT-76\" x=\"272.314453\"/>\n      <use xlink:href=\"#ArialMT-65\" x=\"322.314453\"/>\n      <use xlink:href=\"#ArialMT-64\" x=\"377.929688\"/>\n     </g>\n    </g>\n   </g>\n   <g id=\"QuadMesh_1\">\n    <path d=\"M 41.997187 21.789375 \nL 95.565188 21.789375 \nL 95.565188 65.277375 \nL 41.997187 65.277375 \nL 41.997187 21.789375 \n\" clip-path=\"url(#p8578c6b86d)\" style=\"fill: #241432\"/>\n    <path d=\"M 95.565188 21.789375 \nL 149.133188 21.789375 \nL 149.133188 65.277375 \nL 95.565188 65.277375 \nL 95.565188 21.789375 \n\" clip-path=\"url(#p8578c6b86d)\" style=\"fill: #03051a\"/>\n    <path d=\"M 149.133188 21.789375 \nL 202.701188 21.789375 \nL 202.701188 65.277375 \nL 149.133188 65.277375 \nL 149.133188 21.789375 \n\" clip-path=\"url(#p8578c6b86d)\" style=\"fill: #581e4f\"/>\n    <path d=\"M 202.701188 21.789375 \nL 256.269188 21.789375 \nL 256.269188 65.277375 \nL 202.701188 65.277375 \nL 202.701188 21.789375 \n\" clip-path=\"url(#p8578c6b86d)\" style=\"fill: #04051a\"/>\n    <path d=\"M 256.269188 21.789375 \nL 309.837188 21.789375 \nL 309.837188 65.277375 \nL 256.269188 65.277375 \nL 256.269188 21.789375 \n\" clip-path=\"url(#p8578c6b86d)\" style=\"fill: #05061b\"/>\n    <path d=\"M 41.997187 65.277375 \nL 95.565188 65.277375 \nL 95.565188 108.765375 \nL 41.997187 108.765375 \nL 41.997187 65.277375 \n\" clip-path=\"url(#p8578c6b86d)\" style=\"fill: #03051a\"/>\n    <path d=\"M 95.565188 65.277375 \nL 149.133188 65.277375 \nL 149.133188 108.765375 \nL 95.565188 108.765375 \nL 95.565188 65.277375 \n\" clip-path=\"url(#p8578c6b86d)\" style=\"fill: #03051a\"/>\n    <path d=\"M 149.133188 65.277375 \nL 202.701188 65.277375 \nL 202.701188 108.765375 \nL 149.133188 108.765375 \nL 149.133188 65.277375 \n\" clip-path=\"url(#p8578c6b86d)\" style=\"fill: #0d0a21\"/>\n    <path d=\"M 202.701188 65.277375 \nL 256.269188 65.277375 \nL 256.269188 108.765375 \nL 202.701188 108.765375 \nL 202.701188 65.277375 \n\" clip-path=\"url(#p8578c6b86d)\" style=\"fill: #03051a\"/>\n    <path d=\"M 256.269188 65.277375 \nL 309.837188 65.277375 \nL 309.837188 108.765375 \nL 256.269188 108.765375 \nL 256.269188 65.277375 \n\" clip-path=\"url(#p8578c6b86d)\" style=\"fill: #03051a\"/>\n    <path d=\"M 41.997187 108.765375 \nL 95.565188 108.765375 \nL 95.565188 152.253375 \nL 41.997187 152.253375 \nL 41.997187 108.765375 \n\" clip-path=\"url(#p8578c6b86d)\" style=\"fill: #1b112b\"/>\n    <path d=\"M 95.565188 108.765375 \nL 149.133188 108.765375 \nL 149.133188 152.253375 \nL 95.565188 152.253375 \nL 95.565188 108.765375 \n\" clip-path=\"url(#p8578c6b86d)\" style=\"fill: #03051a\"/>\n    <path d=\"M 149.133188 108.765375 \nL 202.701188 108.765375 \nL 202.701188 152.253375 \nL 149.133188 152.253375 \nL 149.133188 108.765375 \n\" clip-path=\"url(#p8578c6b86d)\" style=\"fill: #faebdd\"/>\n    <path d=\"M 202.701188 108.765375 \nL 256.269188 108.765375 \nL 256.269188 152.253375 \nL 202.701188 152.253375 \nL 202.701188 108.765375 \n\" clip-path=\"url(#p8578c6b86d)\" style=\"fill: #05061b\"/>\n    <path d=\"M 256.269188 108.765375 \nL 309.837188 108.765375 \nL 309.837188 152.253375 \nL 256.269188 152.253375 \nL 256.269188 108.765375 \n\" clip-path=\"url(#p8578c6b86d)\" style=\"fill: #0a091f\"/>\n    <path d=\"M 41.997187 152.253375 \nL 95.565188 152.253375 \nL 95.565188 195.741375 \nL 41.997187 195.741375 \nL 41.997187 152.253375 \n\" clip-path=\"url(#p8578c6b86d)\" style=\"fill: #04051a\"/>\n    <path d=\"M 95.565188 152.253375 \nL 149.133188 152.253375 \nL 149.133188 195.741375 \nL 95.565188 195.741375 \nL 95.565188 152.253375 \n\" clip-path=\"url(#p8578c6b86d)\" style=\"fill: #03051a\"/>\n    <path d=\"M 149.133188 152.253375 \nL 202.701188 152.253375 \nL 202.701188 195.741375 \nL 149.133188 195.741375 \nL 149.133188 152.253375 \n\" clip-path=\"url(#p8578c6b86d)\" style=\"fill: #180f29\"/>\n    <path d=\"M 202.701188 152.253375 \nL 256.269188 152.253375 \nL 256.269188 195.741375 \nL 202.701188 195.741375 \nL 202.701188 152.253375 \n\" clip-path=\"url(#p8578c6b86d)\" style=\"fill: #03051a\"/>\n    <path d=\"M 256.269188 152.253375 \nL 309.837188 152.253375 \nL 309.837188 195.741375 \nL 256.269188 195.741375 \nL 256.269188 152.253375 \n\" clip-path=\"url(#p8578c6b86d)\" style=\"fill: #03051a\"/>\n    <path d=\"M 41.997187 195.741375 \nL 95.565188 195.741375 \nL 95.565188 239.229375 \nL 41.997187 239.229375 \nL 41.997187 195.741375 \n\" clip-path=\"url(#p8578c6b86d)\" style=\"fill: #05061b\"/>\n    <path d=\"M 95.565188 195.741375 \nL 149.133188 195.741375 \nL 149.133188 239.229375 \nL 95.565188 239.229375 \nL 95.565188 195.741375 \n\" clip-path=\"url(#p8578c6b86d)\" style=\"fill: #03051a\"/>\n    <path d=\"M 149.133188 195.741375 \nL 202.701188 195.741375 \nL 202.701188 239.229375 \nL 149.133188 239.229375 \nL 149.133188 195.741375 \n\" clip-path=\"url(#p8578c6b86d)\" style=\"fill: #3c1a42\"/>\n    <path d=\"M 202.701188 195.741375 \nL 256.269188 195.741375 \nL 256.269188 239.229375 \nL 202.701188 239.229375 \nL 202.701188 195.741375 \n\" clip-path=\"url(#p8578c6b86d)\" style=\"fill: #03051a\"/>\n    <path d=\"M 256.269188 195.741375 \nL 309.837188 195.741375 \nL 309.837188 239.229375 \nL 256.269188 239.229375 \nL 256.269188 195.741375 \n\" clip-path=\"url(#p8578c6b86d)\" style=\"fill: #0a091f\"/>\n   </g>\n   <g id=\"text_13\">\n    <!-- 36 -->\n    <g style=\"fill: #ffffff\" transform=\"translate(62.108063 46.635563)scale(0.12 -0.12)\">\n     <defs>\n      <path id=\"ArialMT-33\" d=\"M 269 1209 \nL 831 1284 \nQ 928 806 1161 595 \nQ 1394 384 1728 384 \nQ 2125 384 2398 659 \nQ 2672 934 2672 1341 \nQ 2672 1728 2419 1979 \nQ 2166 2231 1775 2231 \nQ 1616 2231 1378 2169 \nL 1441 2663 \nQ 1497 2656 1531 2656 \nQ 1891 2656 2178 2843 \nQ 2466 3031 2466 3422 \nQ 2466 3731 2256 3934 \nQ 2047 4138 1716 4138 \nQ 1388 4138 1169 3931 \nQ 950 3725 888 3313 \nL 325 3413 \nQ 428 3978 793 4289 \nQ 1159 4600 1703 4600 \nQ 2078 4600 2393 4439 \nQ 2709 4278 2876 4000 \nQ 3044 3722 3044 3409 \nQ 3044 3113 2884 2869 \nQ 2725 2625 2413 2481 \nQ 2819 2388 3044 2092 \nQ 3269 1797 3269 1353 \nQ 3269 753 2831 336 \nQ 2394 -81 1725 -81 \nQ 1122 -81 723 278 \nQ 325 638 269 1209 \nz\n\" transform=\"scale(0.015625)\"/>\n      <path id=\"ArialMT-36\" d=\"M 3184 3459 \nL 2625 3416 \nQ 2550 3747 2413 3897 \nQ 2184 4138 1850 4138 \nQ 1581 4138 1378 3988 \nQ 1113 3794 959 3422 \nQ 806 3050 800 2363 \nQ 1003 2672 1297 2822 \nQ 1591 2972 1913 2972 \nQ 2475 2972 2870 2558 \nQ 3266 2144 3266 1488 \nQ 3266 1056 3080 686 \nQ 2894 316 2569 119 \nQ 2244 -78 1831 -78 \nQ 1128 -78 684 439 \nQ 241 956 241 2144 \nQ 241 3472 731 4075 \nQ 1159 4600 1884 4600 \nQ 2425 4600 2770 4297 \nQ 3116 3994 3184 3459 \nz\nM 888 1484 \nQ 888 1194 1011 928 \nQ 1134 663 1356 523 \nQ 1578 384 1822 384 \nQ 2178 384 2434 671 \nQ 2691 959 2691 1453 \nQ 2691 1928 2437 2201 \nQ 2184 2475 1800 2475 \nQ 1419 2475 1153 2201 \nQ 888 1928 888 1484 \nz\n\" transform=\"scale(0.015625)\"/>\n     </defs>\n     <use xlink:href=\"#ArialMT-33\"/>\n     <use xlink:href=\"#ArialMT-36\" x=\"55.615234\"/>\n    </g>\n   </g>\n   <g id=\"text_14\">\n    <!-- 0 -->\n    <g style=\"fill: #ffffff\" transform=\"translate(119.012625 46.635563)scale(0.12 -0.12)\">\n     <defs>\n      <path id=\"ArialMT-30\" d=\"M 266 2259 \nQ 266 3072 433 3567 \nQ 600 4063 929 4331 \nQ 1259 4600 1759 4600 \nQ 2128 4600 2406 4451 \nQ 2684 4303 2865 4023 \nQ 3047 3744 3150 3342 \nQ 3253 2941 3253 2259 \nQ 3253 1453 3087 958 \nQ 2922 463 2592 192 \nQ 2263 -78 1759 -78 \nQ 1097 -78 719 397 \nQ 266 969 266 2259 \nz\nM 844 2259 \nQ 844 1131 1108 757 \nQ 1372 384 1759 384 \nQ 2147 384 2411 759 \nQ 2675 1134 2675 2259 \nQ 2675 3391 2411 3762 \nQ 2147 4134 1753 4134 \nQ 1366 4134 1134 3806 \nQ 844 3388 844 2259 \nz\n\" transform=\"scale(0.015625)\"/>\n     </defs>\n     <use xlink:href=\"#ArialMT-30\"/>\n    </g>\n   </g>\n   <g id=\"text_15\">\n    <!-- 87 -->\n    <g style=\"fill: #ffffff\" transform=\"translate(169.244063 46.635563)scale(0.12 -0.12)\">\n     <defs>\n      <path id=\"ArialMT-38\" d=\"M 1131 2484 \nQ 781 2613 612 2850 \nQ 444 3088 444 3419 \nQ 444 3919 803 4259 \nQ 1163 4600 1759 4600 \nQ 2359 4600 2725 4251 \nQ 3091 3903 3091 3403 \nQ 3091 3084 2923 2848 \nQ 2756 2613 2416 2484 \nQ 2838 2347 3058 2040 \nQ 3278 1734 3278 1309 \nQ 3278 722 2862 322 \nQ 2447 -78 1769 -78 \nQ 1091 -78 675 323 \nQ 259 725 259 1325 \nQ 259 1772 486 2073 \nQ 713 2375 1131 2484 \nz\nM 1019 3438 \nQ 1019 3113 1228 2906 \nQ 1438 2700 1772 2700 \nQ 2097 2700 2305 2904 \nQ 2513 3109 2513 3406 \nQ 2513 3716 2298 3927 \nQ 2084 4138 1766 4138 \nQ 1444 4138 1231 3931 \nQ 1019 3725 1019 3438 \nz\nM 838 1322 \nQ 838 1081 952 856 \nQ 1066 631 1291 507 \nQ 1516 384 1775 384 \nQ 2178 384 2440 643 \nQ 2703 903 2703 1303 \nQ 2703 1709 2433 1975 \nQ 2163 2241 1756 2241 \nQ 1359 2241 1098 1978 \nQ 838 1716 838 1322 \nz\n\" transform=\"scale(0.015625)\"/>\n      <path id=\"ArialMT-37\" d=\"M 303 3981 \nL 303 4522 \nL 3269 4522 \nL 3269 4084 \nQ 2831 3619 2401 2847 \nQ 1972 2075 1738 1259 \nQ 1569 684 1522 0 \nL 944 0 \nQ 953 541 1156 1306 \nQ 1359 2072 1739 2783 \nQ 2119 3494 2547 3981 \nL 303 3981 \nz\n\" transform=\"scale(0.015625)\"/>\n     </defs>\n     <use xlink:href=\"#ArialMT-38\"/>\n     <use xlink:href=\"#ArialMT-37\" x=\"55.615234\"/>\n    </g>\n   </g>\n   <g id=\"text_16\">\n    <!-- 2 -->\n    <g style=\"fill: #ffffff\" transform=\"translate(226.148625 46.635563)scale(0.12 -0.12)\">\n     <defs>\n      <path id=\"ArialMT-32\" d=\"M 3222 541 \nL 3222 0 \nL 194 0 \nQ 188 203 259 391 \nQ 375 700 629 1000 \nQ 884 1300 1366 1694 \nQ 2113 2306 2375 2664 \nQ 2638 3022 2638 3341 \nQ 2638 3675 2398 3904 \nQ 2159 4134 1775 4134 \nQ 1369 4134 1125 3890 \nQ 881 3647 878 3216 \nL 300 3275 \nQ 359 3922 746 4261 \nQ 1134 4600 1788 4600 \nQ 2447 4600 2831 4234 \nQ 3216 3869 3216 3328 \nQ 3216 3053 3103 2787 \nQ 2991 2522 2730 2228 \nQ 2469 1934 1863 1422 \nQ 1356 997 1212 845 \nQ 1069 694 975 541 \nL 3222 541 \nz\n\" transform=\"scale(0.015625)\"/>\n     </defs>\n     <use xlink:href=\"#ArialMT-32\"/>\n    </g>\n   </g>\n   <g id=\"text_17\">\n    <!-- 3 -->\n    <g style=\"fill: #ffffff\" transform=\"translate(279.716625 46.635563)scale(0.12 -0.12)\">\n     <use xlink:href=\"#ArialMT-33\"/>\n    </g>\n   </g>\n   <g id=\"text_18\">\n    <!-- 1 -->\n    <g style=\"fill: #ffffff\" transform=\"translate(65.444625 90.123563)scale(0.12 -0.12)\">\n     <defs>\n      <path id=\"ArialMT-31\" d=\"M 2384 0 \nL 1822 0 \nL 1822 3584 \nQ 1619 3391 1289 3197 \nQ 959 3003 697 2906 \nL 697 3450 \nQ 1169 3672 1522 3987 \nQ 1875 4303 2022 4600 \nL 2384 4600 \nL 2384 0 \nz\n\" transform=\"scale(0.015625)\"/>\n     </defs>\n     <use xlink:href=\"#ArialMT-31\"/>\n    </g>\n   </g>\n   <g id=\"text_19\">\n    <!-- 0 -->\n    <g style=\"fill: #ffffff\" transform=\"translate(119.012625 90.123563)scale(0.12 -0.12)\">\n     <use xlink:href=\"#ArialMT-30\"/>\n    </g>\n   </g>\n   <g id=\"text_20\">\n    <!-- 12 -->\n    <g style=\"fill: #ffffff\" transform=\"translate(169.244063 90.123563)scale(0.12 -0.12)\">\n     <use xlink:href=\"#ArialMT-31\"/>\n     <use xlink:href=\"#ArialMT-32\" x=\"55.615234\"/>\n    </g>\n   </g>\n   <g id=\"text_21\">\n    <!-- 0 -->\n    <g style=\"fill: #ffffff\" transform=\"translate(226.148625 90.123563)scale(0.12 -0.12)\">\n     <use xlink:href=\"#ArialMT-30\"/>\n    </g>\n   </g>\n   <g id=\"text_22\">\n    <!-- 0 -->\n    <g style=\"fill: #ffffff\" transform=\"translate(279.716625 90.123563)scale(0.12 -0.12)\">\n     <use xlink:href=\"#ArialMT-30\"/>\n    </g>\n   </g>\n   <g id=\"text_23\">\n    <!-- 28 -->\n    <g style=\"fill: #ffffff\" transform=\"translate(62.108063 133.611563)scale(0.12 -0.12)\">\n     <use xlink:href=\"#ArialMT-32\"/>\n     <use xlink:href=\"#ArialMT-38\" x=\"55.615234\"/>\n    </g>\n   </g>\n   <g id=\"text_24\">\n    <!-- 0 -->\n    <g style=\"fill: #ffffff\" transform=\"translate(119.012625 133.611563)scale(0.12 -0.12)\">\n     <use xlink:href=\"#ArialMT-30\"/>\n    </g>\n   </g>\n   <g id=\"text_25\">\n    <!-- 383 -->\n    <g style=\"fill: #262626\" transform=\"translate(165.9075 133.611563)scale(0.12 -0.12)\">\n     <use xlink:href=\"#ArialMT-33\"/>\n     <use xlink:href=\"#ArialMT-38\" x=\"55.615234\"/>\n     <use xlink:href=\"#ArialMT-33\" x=\"111.230469\"/>\n    </g>\n   </g>\n   <g id=\"text_26\">\n    <!-- 3 -->\n    <g style=\"fill: #ffffff\" transform=\"translate(226.148625 133.611563)scale(0.12 -0.12)\">\n     <use xlink:href=\"#ArialMT-33\"/>\n    </g>\n   </g>\n   <g id=\"text_27\">\n    <!-- 10 -->\n    <g style=\"fill: #ffffff\" transform=\"translate(276.380063 133.611563)scale(0.12 -0.12)\">\n     <use xlink:href=\"#ArialMT-31\"/>\n     <use xlink:href=\"#ArialMT-30\" x=\"55.615234\"/>\n    </g>\n   </g>\n   <g id=\"text_28\">\n    <!-- 2 -->\n    <g style=\"fill: #ffffff\" transform=\"translate(65.444625 177.099562)scale(0.12 -0.12)\">\n     <use xlink:href=\"#ArialMT-32\"/>\n    </g>\n   </g>\n   <g id=\"text_29\">\n    <!-- 0 -->\n    <g style=\"fill: #ffffff\" transform=\"translate(119.012625 177.099562)scale(0.12 -0.12)\">\n     <use xlink:href=\"#ArialMT-30\"/>\n    </g>\n   </g>\n   <g id=\"text_30\">\n    <!-- 25 -->\n    <g style=\"fill: #ffffff\" transform=\"translate(169.244063 177.099562)scale(0.12 -0.12)\">\n     <defs>\n      <path id=\"ArialMT-35\" d=\"M 266 1200 \nL 856 1250 \nQ 922 819 1161 601 \nQ 1400 384 1738 384 \nQ 2144 384 2425 690 \nQ 2706 997 2706 1503 \nQ 2706 1984 2436 2262 \nQ 2166 2541 1728 2541 \nQ 1456 2541 1237 2417 \nQ 1019 2294 894 2097 \nL 366 2166 \nL 809 4519 \nL 3088 4519 \nL 3088 3981 \nL 1259 3981 \nL 1013 2750 \nQ 1425 3038 1878 3038 \nQ 2478 3038 2890 2622 \nQ 3303 2206 3303 1553 \nQ 3303 931 2941 478 \nQ 2500 -78 1738 -78 \nQ 1113 -78 717 272 \nQ 322 622 266 1200 \nz\n\" transform=\"scale(0.015625)\"/>\n     </defs>\n     <use xlink:href=\"#ArialMT-32\"/>\n     <use xlink:href=\"#ArialMT-35\" x=\"55.615234\"/>\n    </g>\n   </g>\n   <g id=\"text_31\">\n    <!-- 1 -->\n    <g style=\"fill: #ffffff\" transform=\"translate(226.148625 177.099562)scale(0.12 -0.12)\">\n     <use xlink:href=\"#ArialMT-31\"/>\n    </g>\n   </g>\n   <g id=\"text_32\">\n    <!-- 0 -->\n    <g style=\"fill: #ffffff\" transform=\"translate(279.716625 177.099562)scale(0.12 -0.12)\">\n     <use xlink:href=\"#ArialMT-30\"/>\n    </g>\n   </g>\n   <g id=\"text_33\">\n    <!-- 4 -->\n    <g style=\"fill: #ffffff\" transform=\"translate(65.444625 220.587562)scale(0.12 -0.12)\">\n     <defs>\n      <path id=\"ArialMT-34\" d=\"M 2069 0 \nL 2069 1097 \nL 81 1097 \nL 81 1613 \nL 2172 4581 \nL 2631 4581 \nL 2631 1613 \nL 3250 1613 \nL 3250 1097 \nL 2631 1097 \nL 2631 0 \nL 2069 0 \nz\nM 2069 1613 \nL 2069 3678 \nL 634 1613 \nL 2069 1613 \nz\n\" transform=\"scale(0.015625)\"/>\n     </defs>\n     <use xlink:href=\"#ArialMT-34\"/>\n    </g>\n   </g>\n   <g id=\"text_34\">\n    <!-- 0 -->\n    <g style=\"fill: #ffffff\" transform=\"translate(119.012625 220.587562)scale(0.12 -0.12)\">\n     <use xlink:href=\"#ArialMT-30\"/>\n    </g>\n   </g>\n   <g id=\"text_35\">\n    <!-- 61 -->\n    <g style=\"fill: #ffffff\" transform=\"translate(169.244063 220.587562)scale(0.12 -0.12)\">\n     <use xlink:href=\"#ArialMT-36\"/>\n     <use xlink:href=\"#ArialMT-31\" x=\"55.615234\"/>\n    </g>\n   </g>\n   <g id=\"text_36\">\n    <!-- 0 -->\n    <g style=\"fill: #ffffff\" transform=\"translate(226.148625 220.587562)scale(0.12 -0.12)\">\n     <use xlink:href=\"#ArialMT-30\"/>\n    </g>\n   </g>\n   <g id=\"text_37\">\n    <!-- 9 -->\n    <g style=\"fill: #ffffff\" transform=\"translate(279.716625 220.587562)scale(0.12 -0.12)\">\n     <defs>\n      <path id=\"ArialMT-39\" d=\"M 350 1059 \nL 891 1109 \nQ 959 728 1153 556 \nQ 1347 384 1650 384 \nQ 1909 384 2104 503 \nQ 2300 622 2425 820 \nQ 2550 1019 2634 1356 \nQ 2719 1694 2719 2044 \nQ 2719 2081 2716 2156 \nQ 2547 1888 2255 1720 \nQ 1963 1553 1622 1553 \nQ 1053 1553 659 1965 \nQ 266 2378 266 3053 \nQ 266 3750 677 4175 \nQ 1088 4600 1706 4600 \nQ 2153 4600 2523 4359 \nQ 2894 4119 3086 3673 \nQ 3278 3228 3278 2384 \nQ 3278 1506 3087 986 \nQ 2897 466 2520 194 \nQ 2144 -78 1638 -78 \nQ 1100 -78 759 220 \nQ 419 519 350 1059 \nz\nM 2653 3081 \nQ 2653 3566 2395 3850 \nQ 2138 4134 1775 4134 \nQ 1400 4134 1122 3828 \nQ 844 3522 844 3034 \nQ 844 2597 1108 2323 \nQ 1372 2050 1759 2050 \nQ 2150 2050 2401 2323 \nQ 2653 2597 2653 3081 \nz\n\" transform=\"scale(0.015625)\"/>\n     </defs>\n     <use xlink:href=\"#ArialMT-39\"/>\n    </g>\n   </g>\n   <g id=\"text_38\">\n    <!-- Confusion Matrix:  -->\n    <g style=\"fill: #262626\" transform=\"translate(127.568438 15.789375)scale(0.12 -0.12)\">\n     <defs>\n      <path id=\"ArialMT-43\" d=\"M 3763 1606 \nL 4369 1453 \nQ 4178 706 3683 314 \nQ 3188 -78 2472 -78 \nQ 1731 -78 1267 223 \nQ 803 525 561 1097 \nQ 319 1669 319 2325 \nQ 319 3041 592 3573 \nQ 866 4106 1370 4382 \nQ 1875 4659 2481 4659 \nQ 3169 4659 3637 4309 \nQ 4106 3959 4291 3325 \nL 3694 3184 \nQ 3534 3684 3231 3912 \nQ 2928 4141 2469 4141 \nQ 1941 4141 1586 3887 \nQ 1231 3634 1087 3207 \nQ 944 2781 944 2328 \nQ 944 1744 1114 1308 \nQ 1284 872 1643 656 \nQ 2003 441 2422 441 \nQ 2931 441 3284 734 \nQ 3638 1028 3763 1606 \nz\n\" transform=\"scale(0.015625)\"/>\n      <path id=\"ArialMT-6e\" d=\"M 422 0 \nL 422 3319 \nL 928 3319 \nL 928 2847 \nQ 1294 3394 1984 3394 \nQ 2284 3394 2536 3286 \nQ 2788 3178 2913 3003 \nQ 3038 2828 3088 2588 \nQ 3119 2431 3119 2041 \nL 3119 0 \nL 2556 0 \nL 2556 2019 \nQ 2556 2363 2490 2533 \nQ 2425 2703 2258 2804 \nQ 2091 2906 1866 2906 \nQ 1506 2906 1245 2678 \nQ 984 2450 984 1813 \nL 984 0 \nL 422 0 \nz\n\" transform=\"scale(0.015625)\"/>\n      <path id=\"ArialMT-66\" d=\"M 556 0 \nL 556 2881 \nL 59 2881 \nL 59 3319 \nL 556 3319 \nL 556 3672 \nQ 556 4006 616 4169 \nQ 697 4388 901 4523 \nQ 1106 4659 1475 4659 \nQ 1713 4659 2000 4603 \nL 1916 4113 \nQ 1741 4144 1584 4144 \nQ 1328 4144 1222 4034 \nQ 1116 3925 1116 3625 \nL 1116 3319 \nL 1763 3319 \nL 1763 2881 \nL 1116 2881 \nL 1116 0 \nL 556 0 \nz\n\" transform=\"scale(0.015625)\"/>\n      <path id=\"ArialMT-20\" transform=\"scale(0.015625)\"/>\n      <path id=\"ArialMT-4d\" d=\"M 475 0 \nL 475 4581 \nL 1388 4581 \nL 2472 1338 \nQ 2622 884 2691 659 \nQ 2769 909 2934 1394 \nL 4031 4581 \nL 4847 4581 \nL 4847 0 \nL 4263 0 \nL 4263 3834 \nL 2931 0 \nL 2384 0 \nL 1059 3900 \nL 1059 0 \nL 475 0 \nz\n\" transform=\"scale(0.015625)\"/>\n      <path id=\"ArialMT-78\" d=\"M 47 0 \nL 1259 1725 \nL 138 3319 \nL 841 3319 \nL 1350 2541 \nQ 1494 2319 1581 2169 \nQ 1719 2375 1834 2534 \nL 2394 3319 \nL 3066 3319 \nL 1919 1756 \nL 3153 0 \nL 2463 0 \nL 1781 1031 \nL 1600 1309 \nL 728 0 \nL 47 0 \nz\n\" transform=\"scale(0.015625)\"/>\n      <path id=\"ArialMT-3a\" d=\"M 578 2678 \nL 578 3319 \nL 1219 3319 \nL 1219 2678 \nL 578 2678 \nz\nM 578 0 \nL 578 641 \nL 1219 641 \nL 1219 0 \nL 578 0 \nz\n\" transform=\"scale(0.015625)\"/>\n     </defs>\n     <use xlink:href=\"#ArialMT-43\"/>\n     <use xlink:href=\"#ArialMT-6f\" x=\"72.216797\"/>\n     <use xlink:href=\"#ArialMT-6e\" x=\"127.832031\"/>\n     <use xlink:href=\"#ArialMT-66\" x=\"183.447266\"/>\n     <use xlink:href=\"#ArialMT-75\" x=\"211.230469\"/>\n     <use xlink:href=\"#ArialMT-73\" x=\"266.845703\"/>\n     <use xlink:href=\"#ArialMT-69\" x=\"316.845703\"/>\n     <use xlink:href=\"#ArialMT-6f\" x=\"339.0625\"/>\n     <use xlink:href=\"#ArialMT-6e\" x=\"394.677734\"/>\n     <use xlink:href=\"#ArialMT-20\" x=\"450.292969\"/>\n     <use xlink:href=\"#ArialMT-4d\" x=\"478.076172\"/>\n     <use xlink:href=\"#ArialMT-61\" x=\"561.376953\"/>\n     <use xlink:href=\"#ArialMT-74\" x=\"616.992188\"/>\n     <use xlink:href=\"#ArialMT-72\" x=\"644.775391\"/>\n     <use xlink:href=\"#ArialMT-69\" x=\"678.076172\"/>\n     <use xlink:href=\"#ArialMT-78\" x=\"700.292969\"/>\n     <use xlink:href=\"#ArialMT-3a\" x=\"750.292969\"/>\n     <use xlink:href=\"#ArialMT-20\" x=\"778.076172\"/>\n    </g>\n   </g>\n  </g>\n  <g id=\"axes_2\">\n   <g id=\"patch_3\">\n    <path d=\"M 326.577188 239.229375 \nL 337.449188 239.229375 \nL 337.449188 21.789375 \nL 326.577188 21.789375 \nz\n\" style=\"fill: #eaeaf2\"/>\n   </g>\n   <g id=\"patch_4\">\n    <path clip-path=\"url(#p86ac0b0b64)\" style=\"fill: #eaeaf2; stroke: #eaeaf2; stroke-width: 0.01; stroke-linejoin: miter\"/>\n   </g>\n   <g id=\"matplotlib.axis_3\">\n    <g id=\"ytick_6\">\n     <g id=\"line2d_1\">\n      <defs>\n       <path id=\"me643873bfc\" d=\"M 0 0 \nL 6 0 \n\" style=\"stroke: #262626; stroke-width: 1.25\"/>\n      </defs>\n      <g>\n       <use xlink:href=\"#me643873bfc\" x=\"337.449188\" y=\"239.229375\" style=\"fill: #262626; stroke: #262626; stroke-width: 1.25\"/>\n      </g>\n     </g>\n     <g id=\"text_39\">\n      <!-- 0 -->\n      <g style=\"fill: #262626\" transform=\"translate(346.949188 243.166172)scale(0.11 -0.11)\">\n       <use xlink:href=\"#ArialMT-30\"/>\n      </g>\n     </g>\n    </g>\n    <g id=\"ytick_7\">\n     <g id=\"line2d_2\">\n      <g>\n       <use xlink:href=\"#me643873bfc\" x=\"337.449188\" y=\"210.842952\" style=\"fill: #262626; stroke: #262626; stroke-width: 1.25\"/>\n      </g>\n     </g>\n     <g id=\"text_40\">\n      <!-- 50 -->\n      <g style=\"fill: #262626\" transform=\"translate(346.949188 214.779749)scale(0.11 -0.11)\">\n       <use xlink:href=\"#ArialMT-35\"/>\n       <use xlink:href=\"#ArialMT-30\" x=\"55.615234\"/>\n      </g>\n     </g>\n    </g>\n    <g id=\"ytick_8\">\n     <g id=\"line2d_3\">\n      <g>\n       <use xlink:href=\"#me643873bfc\" x=\"337.449188\" y=\"182.456529\" style=\"fill: #262626; stroke: #262626; stroke-width: 1.25\"/>\n      </g>\n     </g>\n     <g id=\"text_41\">\n      <!-- 100 -->\n      <g style=\"fill: #262626\" transform=\"translate(346.949188 186.393326)scale(0.11 -0.11)\">\n       <use xlink:href=\"#ArialMT-31\"/>\n       <use xlink:href=\"#ArialMT-30\" x=\"55.615234\"/>\n       <use xlink:href=\"#ArialMT-30\" x=\"111.230469\"/>\n      </g>\n     </g>\n    </g>\n    <g id=\"ytick_9\">\n     <g id=\"line2d_4\">\n      <g>\n       <use xlink:href=\"#me643873bfc\" x=\"337.449188\" y=\"154.070106\" style=\"fill: #262626; stroke: #262626; stroke-width: 1.25\"/>\n      </g>\n     </g>\n     <g id=\"text_42\">\n      <!-- 150 -->\n      <g style=\"fill: #262626\" transform=\"translate(346.949188 158.006903)scale(0.11 -0.11)\">\n       <use xlink:href=\"#ArialMT-31\"/>\n       <use xlink:href=\"#ArialMT-35\" x=\"55.615234\"/>\n       <use xlink:href=\"#ArialMT-30\" x=\"111.230469\"/>\n      </g>\n     </g>\n    </g>\n    <g id=\"ytick_10\">\n     <g id=\"line2d_5\">\n      <g>\n       <use xlink:href=\"#me643873bfc\" x=\"337.449188\" y=\"125.683683\" style=\"fill: #262626; stroke: #262626; stroke-width: 1.25\"/>\n      </g>\n     </g>\n     <g id=\"text_43\">\n      <!-- 200 -->\n      <g style=\"fill: #262626\" transform=\"translate(346.949188 129.62048)scale(0.11 -0.11)\">\n       <use xlink:href=\"#ArialMT-32\"/>\n       <use xlink:href=\"#ArialMT-30\" x=\"55.615234\"/>\n       <use xlink:href=\"#ArialMT-30\" x=\"111.230469\"/>\n      </g>\n     </g>\n    </g>\n    <g id=\"ytick_11\">\n     <g id=\"line2d_6\">\n      <g>\n       <use xlink:href=\"#me643873bfc\" x=\"337.449188\" y=\"97.29726\" style=\"fill: #262626; stroke: #262626; stroke-width: 1.25\"/>\n      </g>\n     </g>\n     <g id=\"text_44\">\n      <!-- 250 -->\n      <g style=\"fill: #262626\" transform=\"translate(346.949188 101.234057)scale(0.11 -0.11)\">\n       <use xlink:href=\"#ArialMT-32\"/>\n       <use xlink:href=\"#ArialMT-35\" x=\"55.615234\"/>\n       <use xlink:href=\"#ArialMT-30\" x=\"111.230469\"/>\n      </g>\n     </g>\n    </g>\n    <g id=\"ytick_12\">\n     <g id=\"line2d_7\">\n      <g>\n       <use xlink:href=\"#me643873bfc\" x=\"337.449188\" y=\"68.910837\" style=\"fill: #262626; stroke: #262626; stroke-width: 1.25\"/>\n      </g>\n     </g>\n     <g id=\"text_45\">\n      <!-- 300 -->\n      <g style=\"fill: #262626\" transform=\"translate(346.949188 72.847634)scale(0.11 -0.11)\">\n       <use xlink:href=\"#ArialMT-33\"/>\n       <use xlink:href=\"#ArialMT-30\" x=\"55.615234\"/>\n       <use xlink:href=\"#ArialMT-30\" x=\"111.230469\"/>\n      </g>\n     </g>\n    </g>\n    <g id=\"ytick_13\">\n     <g id=\"line2d_8\">\n      <g>\n       <use xlink:href=\"#me643873bfc\" x=\"337.449188\" y=\"40.524414\" style=\"fill: #262626; stroke: #262626; stroke-width: 1.25\"/>\n      </g>\n     </g>\n     <g id=\"text_46\">\n      <!-- 350 -->\n      <g style=\"fill: #262626\" transform=\"translate(346.949188 44.461211)scale(0.11 -0.11)\">\n       <use xlink:href=\"#ArialMT-33\"/>\n       <use xlink:href=\"#ArialMT-35\" x=\"55.615234\"/>\n       <use xlink:href=\"#ArialMT-30\" x=\"111.230469\"/>\n      </g>\n     </g>\n    </g>\n   </g>\n   <image xlink:href=\"data:image/png;base64,\niVBORw0KGgoAAAANSUhEUgAAAAoAAADZCAYAAAAZmKE8AAABTklEQVR4nOXZUW7DQAiEYfCSS/T+52x6hQ+JFUrqZzSzPwx2Yud5/bwDrkqpiojKtNJ68hlXxMKMacWzCMOKSs2KF6jHz9hQRBinHo/ZZnDZenOESh1rwXUYKmvNeo+6kR67rgQXrW8kHK15hKx4Ya/VuhHc6T4uhuITYHyETj2tuAhT9Ju5Z82F41uohUepGzBauNfwr6K+EVyTdJj5va43nnGROlnRBKPOuGLjjFqIHXeYTLYeDwUrauHB+Nyg1snMWz94y61cbA8uTT3nFxW54Uzt7Zm2boxw2poVg0NRqOjWTr2mmHjj61hPK4YqurVSN2CmC/mtgj7aKx4u3GuPvu9h6hyn9jN6e1Tx2D/szgj32oOvCyp4FRxmjTqdeh5GC+cbfuzxunrGeZj5ES6G4puoM3UL6xOoFWZ8hN7HxYSf15Y1f23+pzCo+AfpXCwe78fFAAAAAABJRU5ErkJggg==\" id=\"image211eccd79c\" transform=\"scale(1 -1)translate(0 -217)\" x=\"327\" y=\"-22\" width=\"10\" height=\"217\"/>\n   <g id=\"LineCollection_1\"/>\n   <g id=\"patch_5\">\n    <path d=\"M 326.577188 239.229375 \nL 332.013188 239.229375 \nL 337.449188 239.229375 \nL 337.449188 21.789375 \nL 332.013188 21.789375 \nL 326.577188 21.789375 \nL 326.577188 239.229375 \nz\n\" style=\"fill: none\"/>\n   </g>\n  </g>\n </g>\n <defs>\n  <clipPath id=\"p8578c6b86d\">\n   <rect x=\"41.997187\" y=\"21.789375\" width=\"267.84\" height=\"217.44\"/>\n  </clipPath>\n  <clipPath id=\"p86ac0b0b64\">\n   <rect x=\"326.577188\" y=\"21.789375\" width=\"10.872\" height=\"217.44\"/>\n  </clipPath>\n </defs>\n</svg>\n",
      "image/png": "[encoded data removed]"
     },
     "metadata": {}
    }
   ],
   "source": [
    "evaluation(pred)"
   ]
  },
  {
   "cell_type": "markdown",
   "metadata": {},
   "source": [
    "### Trying cross validation"
   ]
  },
  {
   "cell_type": "code",
   "execution_count": 51,
   "metadata": {},
   "outputs": [],
   "source": [
    "X= bagOfWords(corpusA)\n",
    "y=dfA['label']\n",
    "scores = cross_validate(clf, X, y, scoring=['accuracy', 'precision_macro', 'recall_macro', 'f1_macro'], return_train_score=True)\n",
    "\n",
    "labels=[\"\", \"Fact\", \"Policy\", \"Value\",\"Value(+)\",\"Value(-)\"];\n",
    "\n",
    "#TODO make visualization pretty uwu"
   ]
  },
  {
   "cell_type": "markdown",
   "metadata": {},
   "source": [
    "#TODO flavia\n",
    "#### Other classifiers\n",
    "\n",
    "Try out using other classifiers, such as:\n",
    "- *Logistic Regression*, through scikit-learn's [LogisticRegression](https://scikit-learn.org/stable/modules/generated/sklearn.linear_model.LogisticRegression.html) class.\n",
    "- *Decision Tree*, through scikit-learn's [DecisionTreeClassifier](https://scikit-learn.org/stable/modules/generated/sklearn.tree.DecisionTreeClassifier.html) class. This model always assigns a probability of 1 to one of the classes.\n",
    "- *Random Forest*, through scikit-learn's [RandomForestClassifier](https://scikit-learn.org/stable/modules/generated/sklearn.ensemble.RandomForestClassifier.html) class.\n",
    "- *Support Vector Machines (SVM)*, through scikit-learn's [SVC](https://scikit-learn.org/stable/modules/generated/sklearn.svm.SVC.html) class. The SVM model also allows you to get probabilities, but for that you need to use the *probability=True* parameter setting in its constructor.\n",
    "- *Perceptron*, through scikit-learn's [Perceptron](https://scikit-learn.org/stable/modules/generated/sklearn.linear_model.Perceptron.html) class. This model does not allow you to get probabilities.\n",
    "- *eXtreme Gradient Boosting*, through [XGBoost](https://xgboost.readthedocs.io/en/stable/)."
   ]
  },
  {
   "cell_type": "markdown",
   "metadata": {},
   "source": [
    "## Improving from our baseline\n",
    "\n",
    "Now that we've established our starting point, we'll be trying different pre-processing techniques, different classifiers and other ideas to try to improve our results as much as possible"
   ]
  },
  {
   "cell_type": "markdown",
   "metadata": {},
   "source": [
    "### Preprocessing techniques\n",
    "\n",
    "#### Let's try using a lemmatizer!\n",
    "Stemming just removes or stems the last few characters of a word, often leading to incorrect meanings and spelling. Lemmatization considers the context and converts the word to its meaningful base form, making it more accurate. \n",
    "As the dataset is in portuguese, we had to find lemmatizers outside of the NLTK library. We found NLPyPort, a library that provides Lemmatization for portuguese developed by researchers at University of Coimbra. The lemmatizer works really well but unfortunately it's very slow, so it was impossible to test in a large enough portion to train and sucessfully test our dataset.\n"
   ]
  },
  {
   "cell_type": "code",
   "execution_count": 24,
   "metadata": {},
   "outputs": [],
   "source": [
    "def buildCorpusLemma(df):\n",
    "    df=df[['tokens', 'label']]\n",
    "    corpus = []\n",
    "    options = {\n",
    "\t\t\t\"tokenizer\" : True,\n",
    "\t\t\t\"pos_tagger\" : False,\n",
    "\t\t\t\"lemmatizer\" : True,\n",
    "\t\t\t\"entity_recognition\" : False,\n",
    "\t\t\t\"np_chunking\" : False,\n",
    "\t\t\t\"pre_load\" : False,\n",
    "\t\t\t\"string_or_array\" : True\n",
    "    }\n",
    "    stemmer= SnowballStemmer('portuguese')\n",
    "    for i in df.itertuples():\n",
    "        # get token and remove non alpha chars\n",
    "        token= unidecode.unidecode(i.tokens)\n",
    "        token = re.sub('[^a-zA-Z]', ' ', token)\n",
    "        # to lower-case\n",
    "        token =  token.lower()\n",
    "        # split into tokens, apply stemming and remove stop words\n",
    "        token = ' '.join([w for w in new_full_pipe(token,options=options).lemas if not w in set(stopwords.words('portuguese'))])\n",
    "        corpus.append(token)\n",
    "    return corpus"
   ]
  },
  {
   "cell_type": "markdown",
   "metadata": {},
   "source": [
    "Let's try using it on only two rows"
   ]
  },
  {
   "cell_type": "code",
   "execution_count": 33,
   "metadata": {},
   "outputs": [
    {
     "output_type": "stream",
     "name": "stdout",
     "text": "{'tokenizer': True, 'pos_tagger': False, 'lemmatizer': True, 'entity_recognition': False, 'np_chunking': False, 'pre_load': False, 'string_or_array': True}\n{'tokenizer': True, 'pos_tagger': False, 'lemmatizer': True, 'entity_recognition': False, 'np_chunking': False, 'pre_load': False, 'string_or_array': True, 'pre-load': False}\nExecution time: 117.45680117607117 seconds\n"
    }
   ],
   "source": [
    "\n",
    "# get the start time\n",
    "st = time.time()\n",
    "corpusLemma=buildCorpusLemma(dfA[0:1])\n",
    "et = time.time()\n",
    "\n",
    "# get the execution time\n",
    "elapsed_time = et - st\n",
    "print('Execution time:', elapsed_time, 'seconds')"
   ]
  },
  {
   "cell_type": "code",
   "execution_count": 35,
   "metadata": {},
   "outputs": [
    {
     "output_type": "stream",
     "name": "stdout",
     "text": "['facto nao apenas fruto ignorancia EOS', 'haver humor jornalismo investigacao preocupacao aprofundar contextualizar historia isencao relato preocupacao social urgencia denunciar peca realmente jornalistico EOS']\n"
    }
   ],
   "source": [
    "print(corpusLemma)"
   ]
  },
  {
   "cell_type": "code",
   "execution_count": 36,
   "metadata": {},
   "outputs": [
    {
     "output_type": "stream",
     "name": "stdout",
     "text": "Execution time: 0.04401445388793945 seconds\n['fact nao apen frut ignoranc', 'hav humor jornal investigaca preocupaca aprofund contextualiz histor isenca relat preocupaca social urgenc denunc muit pec realment jornalist']\n"
    }
   ],
   "source": [
    "\n",
    "st = time.time()\n",
    "corpus=buildCorpus(dfA[0:1])\n",
    "et = time.time()\n",
    "elapsed_time = et - st\n",
    "print('Execution time:', elapsed_time, 'seconds')\n",
    "print(corpus)"
   ]
  },
  {
   "cell_type": "markdown",
   "metadata": {},
   "source": [
    "As we can see, this Lemmatizer takes a way bigger ammount of time to process the same text that the SnowballStemmer, so it's not viable to use."
   ]
  }
 ],
 "metadata": {
  "interpreter": {
   "hash": "8b8aa58cbdd3fa7ee5838f11bebf8643e92d1255fc2cdda3e6cf742529abce79"
  },
  "kernelspec": {
   "display_name": "Python 3.9.2 64-bit",
   "language": "python",
   "name": "python39264bit532d2219c3ec49c283ff73eeab452620"
  },
  "language_info": {
   "codemirror_mode": {
    "name": "ipython",
    "version": 3
   },
   "file_extension": ".py",
   "mimetype": "text/x-python",
   "name": "python",
   "nbconvert_exporter": "python",
   "pygments_lexer": "ipython3",
   "version": "3.9.12-final"
  },
  "orig_nbformat": 4
 },
 "nbformat": 4,
 "nbformat_minor": 2
}