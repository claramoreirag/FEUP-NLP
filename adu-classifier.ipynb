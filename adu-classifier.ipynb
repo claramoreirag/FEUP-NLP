{
 "cells": [
  {
   "cell_type": "markdown",
   "metadata": {},
   "source": [
    "# ADU Classifier\n",
    "\n",
    "## Project Description\n",
    "\n",
    "In the scope of the DARGMINTS project, an annotation project was carried out which consisted of annotating argumentation structures in opinion articles published in the Público newspaper. The annotation included several layers:\n",
    "\n",
    "- Selecting text spans that are taken to have an argumentative role (either as premises or conclusions of arguments) -- these are Argumentative Discourse Units (ADU).\n",
    "- Connecting such ADUs through support or attack relations.\n",
    "- Classifying the propositional content of ADUs as propositions of fact, propositions of value, or propositions of policy; within propositions of value, distinguish between those with a positive (+) or negative (-) connotation.\n",
    "\n",
    "In a proposition of fact, the content corresponds to a piece of information that can be checked for truthness. This does not usually happen with propositions of value, which denote value judgments with a strong subjective nature; often, they also have a (positive or negative) polarity attached. A proposition of policy prescribes or suggests a certain line of action, often mentioning the agents or entities that are capable of carrying out such policies.\n",
    "\n",
    "The aim of this assignment is to build a classifier of types of ADUs, thus focusing on the last annotation step described above. For that, you have access to two different files:\n",
    "\n",
    "- A file containing the content of each annotated ADU span and its 5-class classification: Value, Value(+), Value(-), Fact, or Policy. For each ADU, we also know the annotator and the document from which it has been taken.\n",
    "- A file containing details for each opinion article that has been annotated, including the full article content.\n",
    "Besides ADU contents, you can make use of any contextual information provided in the corresponding opinion article.\n",
    "\n",
    "Each opinion article has been annotated by 3 different annotators. For that reason, you will find in the ADU file an indication of which annotator has obtained the ADU. It may happen that the same ADU has been annotated by more than one annotator. When that is the case, they do not necessarily agree on the type of proposition.\n",
    "\n",
    "How good a classifier (or set of classifiers) can you get? Don't forget to properly split the dataset in a sensible manner, so that you have a proper test set. Start by obtaining an arbitrary baseline, against which you can then compare your improvements."
   ]
  },
  {
   "cell_type": "markdown",
   "metadata": {},
   "source": [
    "## Developed ADU Classifier\n",
    "\n",
    "### Datasets \n",
    "Let's start by opening the datasets and analyzing the structure of the available data."
   ]
  },
  {
   "cell_type": "code",
   "execution_count": 50,
   "metadata": {},
   "outputs": [],
   "source": [
    "# importing necessary libraries\n",
    "import numpy as np \n",
    "import pandas as pd\n",
    "import unidecode\n",
    "import re\n",
    "from nltk.corpus import stopwords\n",
    "from nltk.stem import *"
   ]
  },
  {
   "cell_type": "code",
   "execution_count": 2,
   "metadata": {},
   "outputs": [],
   "source": [
    "# reading the datasets\n",
    "articles = pd.read_excel('./OpArticles/OpArticles.xlsx')\n",
    "adus = pd.read_excel('./OpArticles/OpArticles_ADUs.xlsx')\n"
   ]
  },
  {
   "cell_type": "code",
   "execution_count": 3,
   "metadata": {},
   "outputs": [
    {
     "output_type": "execute_result",
     "data": {
      "text/plain": "                 article_id  \\\n0  5d04a31b896a7fea069ef06f   \n1  5d04a3fc896a7fea069f0717   \n2  5d04a455896a7fea069f07ab   \n3  5d04a52f896a7fea069f0921   \n4  5d04a8d7896a7fea069f6997   \n\n                                               title  \\\n0            Pouco pão e muito circo, morte e bocejo   \n1    Portugal nos Mundiais de Futebol de 2010 e 2014   \n2                          Futebol, guerra, religião   \n3  As razões do Qatar para acolher o Mundial em 2022   \n4                     A política no campo de futebol   \n\n                                    authors  \\\n0                  ['José Vítor Malheiros']   \n1                       ['Rui J. Baptista']   \n2                         ['Fernando Belo']   \n3  ['Hamad bin Khalifa bin Ahmad Al Thani']   \n4                        ['Carlos Nolasco']   \n\n                                                body  \\\n0  O poeta espanhol António Machado escrevia, uns...   \n1  “O mais excelente quadro posto a uma luz logo ...   \n2  1. As sociedades humanas parecem ser regidas p...   \n3  Este foi um Mundial incrível. Vimos actuações ...   \n4  O futebol sempre foi um jogo aparentemente sim...   \n\n                                    meta_description  topics  \\\n0  É tudo cómico na FIFA, porque todos os dias a ...  Sports   \n1  Deve ser evidenciado o clima favorável criado ...  Sports   \n2  O futebol parece ser um sucedâneo quer da lei ...  Sports   \n3  Queremos cooperar plenamente com a investigaçã...  Sports   \n4  Retirar a expressão política do futebol é reti...  Sports   \n\n                                            keywords         publish_date  \\\n0  ['Brasil', 'Campeonato do Mundo', 'Desporto', ...  2014-06-17 00:16:00   \n1  ['Brasil', 'Campeonato do Mundo', 'Coreia do N...  2014-07-05 02:46:00   \n2  ['A guerra na Síria', 'Desporto', 'Futebol', '...  2014-07-12 16:05:33   \n3  ['Desporto', 'FIFA', 'Futebol', 'Mundial de fu...  2014-07-27 02:00:00   \n4  ['Albânia', 'Campeonato da Europa', 'Desporto'...  2014-10-23 00:16:00   \n\n                                       url_canonical  \n0  https://www.publico.pt/2014/06/17/desporto/opi...  \n1  https://www.publico.pt/2014/07/05/desporto/opi...  \n2  https://www.publico.pt/2014/07/12/desporto/opi...  \n3  https://www.publico.pt/2014/07/27/desporto/opi...  \n4  https://www.publico.pt/2014/10/23/desporto/opi...  ",
      "text/html": "<div>\n<style scoped>\n    .dataframe tbody tr th:only-of-type {\n        vertical-align: middle;\n    }\n\n    .dataframe tbody tr th {\n        vertical-align: top;\n    }\n\n    .dataframe thead th {\n        text-align: right;\n    }\n</style>\n<table border=\"1\" class=\"dataframe\">\n  <thead>\n    <tr style=\"text-align: right;\">\n      <th></th>\n      <th>article_id</th>\n      <th>title</th>\n      <th>authors</th>\n      <th>body</th>\n      <th>meta_description</th>\n      <th>topics</th>\n      <th>keywords</th>\n      <th>publish_date</th>\n      <th>url_canonical</th>\n    </tr>\n  </thead>\n  <tbody>\n    <tr>\n      <th>0</th>\n      <td>5d04a31b896a7fea069ef06f</td>\n      <td>Pouco pão e muito circo, morte e bocejo</td>\n      <td>['José Vítor Malheiros']</td>\n      <td>O poeta espanhol António Machado escrevia, uns...</td>\n      <td>É tudo cómico na FIFA, porque todos os dias a ...</td>\n      <td>Sports</td>\n      <td>['Brasil', 'Campeonato do Mundo', 'Desporto', ...</td>\n      <td>2014-06-17 00:16:00</td>\n      <td>https://www.publico.pt/2014/06/17/desporto/opi...</td>\n    </tr>\n    <tr>\n      <th>1</th>\n      <td>5d04a3fc896a7fea069f0717</td>\n      <td>Portugal nos Mundiais de Futebol de 2010 e 2014</td>\n      <td>['Rui J. Baptista']</td>\n      <td>“O mais excelente quadro posto a uma luz logo ...</td>\n      <td>Deve ser evidenciado o clima favorável criado ...</td>\n      <td>Sports</td>\n      <td>['Brasil', 'Campeonato do Mundo', 'Coreia do N...</td>\n      <td>2014-07-05 02:46:00</td>\n      <td>https://www.publico.pt/2014/07/05/desporto/opi...</td>\n    </tr>\n    <tr>\n      <th>2</th>\n      <td>5d04a455896a7fea069f07ab</td>\n      <td>Futebol, guerra, religião</td>\n      <td>['Fernando Belo']</td>\n      <td>1. As sociedades humanas parecem ser regidas p...</td>\n      <td>O futebol parece ser um sucedâneo quer da lei ...</td>\n      <td>Sports</td>\n      <td>['A guerra na Síria', 'Desporto', 'Futebol', '...</td>\n      <td>2014-07-12 16:05:33</td>\n      <td>https://www.publico.pt/2014/07/12/desporto/opi...</td>\n    </tr>\n    <tr>\n      <th>3</th>\n      <td>5d04a52f896a7fea069f0921</td>\n      <td>As razões do Qatar para acolher o Mundial em 2022</td>\n      <td>['Hamad bin Khalifa bin Ahmad Al Thani']</td>\n      <td>Este foi um Mundial incrível. Vimos actuações ...</td>\n      <td>Queremos cooperar plenamente com a investigaçã...</td>\n      <td>Sports</td>\n      <td>['Desporto', 'FIFA', 'Futebol', 'Mundial de fu...</td>\n      <td>2014-07-27 02:00:00</td>\n      <td>https://www.publico.pt/2014/07/27/desporto/opi...</td>\n    </tr>\n    <tr>\n      <th>4</th>\n      <td>5d04a8d7896a7fea069f6997</td>\n      <td>A política no campo de futebol</td>\n      <td>['Carlos Nolasco']</td>\n      <td>O futebol sempre foi um jogo aparentemente sim...</td>\n      <td>Retirar a expressão política do futebol é reti...</td>\n      <td>Sports</td>\n      <td>['Albânia', 'Campeonato da Europa', 'Desporto'...</td>\n      <td>2014-10-23 00:16:00</td>\n      <td>https://www.publico.pt/2014/10/23/desporto/opi...</td>\n    </tr>\n  </tbody>\n</table>\n</div>"
     },
     "metadata": {},
     "execution_count": 3
    }
   ],
   "source": [
    "#Articles\n",
    "articles.head()"
   ]
  },
  {
   "cell_type": "code",
   "execution_count": 4,
   "metadata": {},
   "outputs": [
    {
     "output_type": "execute_result",
     "data": {
      "text/plain": "                 article_id annotator  node          ranges  \\\n0  5d04a31b896a7fea069ef06f         A     0  [[2516, 2556]]   \n1  5d04a31b896a7fea069ef06f         A     1  [[2568, 2806]]   \n2  5d04a31b896a7fea069ef06f         A     3  [[3169, 3190]]   \n3  5d04a31b896a7fea069ef06f         A     4  [[3198, 3285]]   \n4  5d04a31b896a7fea069ef06f         A     6  [[4257, 4296]]   \n\n                                              tokens  label  \n0           O facto não é apenas fruto da ignorância  Value  \n1  havia no seu humor mais jornalismo (mais inves...  Value  \n2                              É tudo cómico na FIFA  Value  \n3  o que todos nós permitimos que esta organizaçã...  Value  \n4            não nos fazem rir à custa dos poderosos  Value  ",
      "text/html": "<div>\n<style scoped>\n    .dataframe tbody tr th:only-of-type {\n        vertical-align: middle;\n    }\n\n    .dataframe tbody tr th {\n        vertical-align: top;\n    }\n\n    .dataframe thead th {\n        text-align: right;\n    }\n</style>\n<table border=\"1\" class=\"dataframe\">\n  <thead>\n    <tr style=\"text-align: right;\">\n      <th></th>\n      <th>article_id</th>\n      <th>annotator</th>\n      <th>node</th>\n      <th>ranges</th>\n      <th>tokens</th>\n      <th>label</th>\n    </tr>\n  </thead>\n  <tbody>\n    <tr>\n      <th>0</th>\n      <td>5d04a31b896a7fea069ef06f</td>\n      <td>A</td>\n      <td>0</td>\n      <td>[[2516, 2556]]</td>\n      <td>O facto não é apenas fruto da ignorância</td>\n      <td>Value</td>\n    </tr>\n    <tr>\n      <th>1</th>\n      <td>5d04a31b896a7fea069ef06f</td>\n      <td>A</td>\n      <td>1</td>\n      <td>[[2568, 2806]]</td>\n      <td>havia no seu humor mais jornalismo (mais inves...</td>\n      <td>Value</td>\n    </tr>\n    <tr>\n      <th>2</th>\n      <td>5d04a31b896a7fea069ef06f</td>\n      <td>A</td>\n      <td>3</td>\n      <td>[[3169, 3190]]</td>\n      <td>É tudo cómico na FIFA</td>\n      <td>Value</td>\n    </tr>\n    <tr>\n      <th>3</th>\n      <td>5d04a31b896a7fea069ef06f</td>\n      <td>A</td>\n      <td>4</td>\n      <td>[[3198, 3285]]</td>\n      <td>o que todos nós permitimos que esta organizaçã...</td>\n      <td>Value</td>\n    </tr>\n    <tr>\n      <th>4</th>\n      <td>5d04a31b896a7fea069ef06f</td>\n      <td>A</td>\n      <td>6</td>\n      <td>[[4257, 4296]]</td>\n      <td>não nos fazem rir à custa dos poderosos</td>\n      <td>Value</td>\n    </tr>\n  </tbody>\n</table>\n</div>"
     },
     "metadata": {},
     "execution_count": 4
    }
   ],
   "source": [
    "#ADUs\n",
    "adus.head()"
   ]
  },
  {
   "cell_type": "markdown",
   "metadata": {},
   "source": [
    "## Data Analysis\n",
    "\n",
    "Number of ADUs of each annotator:"
   ]
  },
  {
   "cell_type": "code",
   "execution_count": 5,
   "metadata": {},
   "outputs": [
    {
     "output_type": "execute_result",
     "data": {
      "text/plain": "annotator\nB    5226\nC    4111\nD    4071\nA    3335\ndtype: int64"
     },
     "metadata": {},
     "execution_count": 5
    }
   ],
   "source": [
    "adus.value_counts(\"annotator\")"
   ]
  },
  {
   "cell_type": "markdown",
   "metadata": {},
   "source": [
    "Number of occurences of each label:"
   ]
  },
  {
   "cell_type": "code",
   "execution_count": 6,
   "metadata": {},
   "outputs": [
    {
     "output_type": "execute_result",
     "data": {
      "text/plain": "label\nValue       8102\nFact        3663\nValue(-)    2900\nValue(+)    1411\nPolicy       667\ndtype: int64"
     },
     "metadata": {},
     "execution_count": 6
    }
   ],
   "source": [
    "adus.value_counts(\"label\")"
   ]
  },
  {
   "cell_type": "markdown",
   "metadata": {},
   "source": [
    "Get all the ADUs that were found by more than one annotator:"
   ]
  },
  {
   "cell_type": "code",
   "execution_count": 7,
   "metadata": {},
   "outputs": [
    {
     "output_type": "execute_result",
     "data": {
      "text/plain": "                     article_id annotator  node         ranges  \\\n3428   5cf47371896a7fea06009c23         B     0     [[0, 101]]   \n3444   5cf47371896a7fea06009c23         C     0     [[0, 101]]   \n3426   5cf47371896a7fea06009c23         A     6     [[0, 101]]   \n1654   5d04c505896a7fea06a0fabc         A     0     [[0, 104]]   \n1669   5d04c505896a7fea06a0fabc         B     0     [[0, 104]]   \n...                         ...       ...   ...            ...   \n9126   5cf462de896a7fea06ff9495         C     3  [[998, 1032]]   \n9146   5cf462de896a7fea06ff9495         D     6  [[998, 1032]]   \n15430  5cde31c4896a7fea063370a5         A     7  [[998, 1044]]   \n15449  5cde31c4896a7fea063370a5         B     7  [[998, 1044]]   \n15467  5cde31c4896a7fea063370a5         C     8  [[998, 1044]]   \n\n                                                  tokens     label  \n3428   A fase da desconfiança em relação à sobrevivên...     Value  \n3444   A fase da desconfiança em relação à sobrevivên...     Value  \n3426   A fase da desconfiança em relação à sobrevivên...     Value  \n1654   Em dezembro do ano passado Fernando Medina ava...     Value  \n1669   Em dezembro do ano passado Fernando Medina ava...      Fact  \n...                                                  ...       ...  \n9126                  a violência agravou-se brutalmente  Value(-)  \n9146                  a violência agravou-se brutalmente      Fact  \n15430     os governos desconhecem a realidade desportiva  Value(-)  \n15449     os governos desconhecem a realidade desportiva     Value  \n15467     os governos desconhecem a realidade desportiva  Value(-)  \n\n[8392 rows x 6 columns]",
      "text/html": "<div>\n<style scoped>\n    .dataframe tbody tr th:only-of-type {\n        vertical-align: middle;\n    }\n\n    .dataframe tbody tr th {\n        vertical-align: top;\n    }\n\n    .dataframe thead th {\n        text-align: right;\n    }\n</style>\n<table border=\"1\" class=\"dataframe\">\n  <thead>\n    <tr style=\"text-align: right;\">\n      <th></th>\n      <th>article_id</th>\n      <th>annotator</th>\n      <th>node</th>\n      <th>ranges</th>\n      <th>tokens</th>\n      <th>label</th>\n    </tr>\n  </thead>\n  <tbody>\n    <tr>\n      <th>3428</th>\n      <td>5cf47371896a7fea06009c23</td>\n      <td>B</td>\n      <td>0</td>\n      <td>[[0, 101]]</td>\n      <td>A fase da desconfiança em relação à sobrevivên...</td>\n      <td>Value</td>\n    </tr>\n    <tr>\n      <th>3444</th>\n      <td>5cf47371896a7fea06009c23</td>\n      <td>C</td>\n      <td>0</td>\n      <td>[[0, 101]]</td>\n      <td>A fase da desconfiança em relação à sobrevivên...</td>\n      <td>Value</td>\n    </tr>\n    <tr>\n      <th>3426</th>\n      <td>5cf47371896a7fea06009c23</td>\n      <td>A</td>\n      <td>6</td>\n      <td>[[0, 101]]</td>\n      <td>A fase da desconfiança em relação à sobrevivên...</td>\n      <td>Value</td>\n    </tr>\n    <tr>\n      <th>1654</th>\n      <td>5d04c505896a7fea06a0fabc</td>\n      <td>A</td>\n      <td>0</td>\n      <td>[[0, 104]]</td>\n      <td>Em dezembro do ano passado Fernando Medina ava...</td>\n      <td>Value</td>\n    </tr>\n    <tr>\n      <th>1669</th>\n      <td>5d04c505896a7fea06a0fabc</td>\n      <td>B</td>\n      <td>0</td>\n      <td>[[0, 104]]</td>\n      <td>Em dezembro do ano passado Fernando Medina ava...</td>\n      <td>Fact</td>\n    </tr>\n    <tr>\n      <th>...</th>\n      <td>...</td>\n      <td>...</td>\n      <td>...</td>\n      <td>...</td>\n      <td>...</td>\n      <td>...</td>\n    </tr>\n    <tr>\n      <th>9126</th>\n      <td>5cf462de896a7fea06ff9495</td>\n      <td>C</td>\n      <td>3</td>\n      <td>[[998, 1032]]</td>\n      <td>a violência agravou-se brutalmente</td>\n      <td>Value(-)</td>\n    </tr>\n    <tr>\n      <th>9146</th>\n      <td>5cf462de896a7fea06ff9495</td>\n      <td>D</td>\n      <td>6</td>\n      <td>[[998, 1032]]</td>\n      <td>a violência agravou-se brutalmente</td>\n      <td>Fact</td>\n    </tr>\n    <tr>\n      <th>15430</th>\n      <td>5cde31c4896a7fea063370a5</td>\n      <td>A</td>\n      <td>7</td>\n      <td>[[998, 1044]]</td>\n      <td>os governos desconhecem a realidade desportiva</td>\n      <td>Value(-)</td>\n    </tr>\n    <tr>\n      <th>15449</th>\n      <td>5cde31c4896a7fea063370a5</td>\n      <td>B</td>\n      <td>7</td>\n      <td>[[998, 1044]]</td>\n      <td>os governos desconhecem a realidade desportiva</td>\n      <td>Value</td>\n    </tr>\n    <tr>\n      <th>15467</th>\n      <td>5cde31c4896a7fea063370a5</td>\n      <td>C</td>\n      <td>8</td>\n      <td>[[998, 1044]]</td>\n      <td>os governos desconhecem a realidade desportiva</td>\n      <td>Value(-)</td>\n    </tr>\n  </tbody>\n</table>\n<p>8392 rows × 6 columns</p>\n</div>"
     },
     "metadata": {},
     "execution_count": 7
    }
   ],
   "source": [
    "repADUs=adus[adus.duplicated(['ranges', 'article_id'], keep=False)].sort_values(by=['ranges'])\n",
    "repADUs"
   ]
  },
  {
   "cell_type": "markdown",
   "metadata": {},
   "source": [
    "Get all the rows where the same ADUs got a different label:"
   ]
  },
  {
   "cell_type": "code",
   "execution_count": 8,
   "metadata": {},
   "outputs": [
    {
     "output_type": "execute_result",
     "data": {
      "text/plain": "                     article_id annotator  node         ranges  \\\n3428   5cf47371896a7fea06009c23         B     0     [[0, 101]]   \n1654   5d04c505896a7fea06a0fabc         A     0     [[0, 104]]   \n1669   5d04c505896a7fea06a0fabc         B     0     [[0, 104]]   \n6587   5cf4675d896a7fea06ffe0fe         C     0     [[0, 105]]   \n4654   5cf47065896a7fea060065b5         C     1     [[0, 108]]   \n...                         ...       ...   ...            ...   \n5481   5cf46c00896a7fea06002671         C    13  [[997, 1072]]   \n9104   5cf462de896a7fea06ff9495         B     5  [[998, 1032]]   \n9146   5cf462de896a7fea06ff9495         D     6  [[998, 1032]]   \n15430  5cde31c4896a7fea063370a5         A     7  [[998, 1044]]   \n15449  5cde31c4896a7fea063370a5         B     7  [[998, 1044]]   \n\n                                                  tokens     label  \n3428   A fase da desconfiança em relação à sobrevivên...     Value  \n1654   Em dezembro do ano passado Fernando Medina ava...     Value  \n1669   Em dezembro do ano passado Fernando Medina ava...      Fact  \n6587   Já lá vão uns valentes séculos desde que o Mar...      Fact  \n4654   As instituições de ensino superior portuguesas...  Value(+)  \n...                                                  ...       ...  \n5481   que disponibilize os resultados da investigaçã...    Policy  \n9104                  a violência agravou-se brutalmente  Value(-)  \n9146                  a violência agravou-se brutalmente      Fact  \n15430     os governos desconhecem a realidade desportiva  Value(-)  \n15449     os governos desconhecem a realidade desportiva     Value  \n\n[5510 rows x 6 columns]",
      "text/html": "<div>\n<style scoped>\n    .dataframe tbody tr th:only-of-type {\n        vertical-align: middle;\n    }\n\n    .dataframe tbody tr th {\n        vertical-align: top;\n    }\n\n    .dataframe thead th {\n        text-align: right;\n    }\n</style>\n<table border=\"1\" class=\"dataframe\">\n  <thead>\n    <tr style=\"text-align: right;\">\n      <th></th>\n      <th>article_id</th>\n      <th>annotator</th>\n      <th>node</th>\n      <th>ranges</th>\n      <th>tokens</th>\n      <th>label</th>\n    </tr>\n  </thead>\n  <tbody>\n    <tr>\n      <th>3428</th>\n      <td>5cf47371896a7fea06009c23</td>\n      <td>B</td>\n      <td>0</td>\n      <td>[[0, 101]]</td>\n      <td>A fase da desconfiança em relação à sobrevivên...</td>\n      <td>Value</td>\n    </tr>\n    <tr>\n      <th>1654</th>\n      <td>5d04c505896a7fea06a0fabc</td>\n      <td>A</td>\n      <td>0</td>\n      <td>[[0, 104]]</td>\n      <td>Em dezembro do ano passado Fernando Medina ava...</td>\n      <td>Value</td>\n    </tr>\n    <tr>\n      <th>1669</th>\n      <td>5d04c505896a7fea06a0fabc</td>\n      <td>B</td>\n      <td>0</td>\n      <td>[[0, 104]]</td>\n      <td>Em dezembro do ano passado Fernando Medina ava...</td>\n      <td>Fact</td>\n    </tr>\n    <tr>\n      <th>6587</th>\n      <td>5cf4675d896a7fea06ffe0fe</td>\n      <td>C</td>\n      <td>0</td>\n      <td>[[0, 105]]</td>\n      <td>Já lá vão uns valentes séculos desde que o Mar...</td>\n      <td>Fact</td>\n    </tr>\n    <tr>\n      <th>4654</th>\n      <td>5cf47065896a7fea060065b5</td>\n      <td>C</td>\n      <td>1</td>\n      <td>[[0, 108]]</td>\n      <td>As instituições de ensino superior portuguesas...</td>\n      <td>Value(+)</td>\n    </tr>\n    <tr>\n      <th>...</th>\n      <td>...</td>\n      <td>...</td>\n      <td>...</td>\n      <td>...</td>\n      <td>...</td>\n      <td>...</td>\n    </tr>\n    <tr>\n      <th>5481</th>\n      <td>5cf46c00896a7fea06002671</td>\n      <td>C</td>\n      <td>13</td>\n      <td>[[997, 1072]]</td>\n      <td>que disponibilize os resultados da investigaçã...</td>\n      <td>Policy</td>\n    </tr>\n    <tr>\n      <th>9104</th>\n      <td>5cf462de896a7fea06ff9495</td>\n      <td>B</td>\n      <td>5</td>\n      <td>[[998, 1032]]</td>\n      <td>a violência agravou-se brutalmente</td>\n      <td>Value(-)</td>\n    </tr>\n    <tr>\n      <th>9146</th>\n      <td>5cf462de896a7fea06ff9495</td>\n      <td>D</td>\n      <td>6</td>\n      <td>[[998, 1032]]</td>\n      <td>a violência agravou-se brutalmente</td>\n      <td>Fact</td>\n    </tr>\n    <tr>\n      <th>15430</th>\n      <td>5cde31c4896a7fea063370a5</td>\n      <td>A</td>\n      <td>7</td>\n      <td>[[998, 1044]]</td>\n      <td>os governos desconhecem a realidade desportiva</td>\n      <td>Value(-)</td>\n    </tr>\n    <tr>\n      <th>15449</th>\n      <td>5cde31c4896a7fea063370a5</td>\n      <td>B</td>\n      <td>7</td>\n      <td>[[998, 1044]]</td>\n      <td>os governos desconhecem a realidade desportiva</td>\n      <td>Value</td>\n    </tr>\n  </tbody>\n</table>\n<p>5510 rows × 6 columns</p>\n</div>"
     },
     "metadata": {},
     "execution_count": 8
    }
   ],
   "source": [
    "difADUs=repADUs.drop_duplicates(subset=['article_id','ranges','label']).sort_values(by=['ranges'])\n",
    "difADUs"
   ]
  },
  {
   "cell_type": "markdown",
   "metadata": {},
   "source": [
    "Get all tokens in which there were different labels assigned:"
   ]
  },
  {
   "cell_type": "code",
   "execution_count": 9,
   "metadata": {},
   "outputs": [
    {
     "output_type": "execute_result",
     "data": {
      "text/plain": "                     article_id annotator  node         ranges  \\\n1654   5d04c505896a7fea06a0fabc         A     0     [[0, 104]]   \n1669   5d04c505896a7fea06a0fabc         B     0     [[0, 104]]   \n4654   5cf47065896a7fea060065b5         C     1     [[0, 108]]   \n4691   5cf47065896a7fea060065b5         D     0     [[0, 108]]   \n15413  5cddb333896a7fea062e8b18         B     0     [[0, 109]]   \n...                         ...       ...   ...            ...   \n5481   5cf46c00896a7fea06002671         C    13  [[997, 1072]]   \n9104   5cf462de896a7fea06ff9495         B     5  [[998, 1032]]   \n9146   5cf462de896a7fea06ff9495         D     6  [[998, 1032]]   \n15430  5cde31c4896a7fea063370a5         A     7  [[998, 1044]]   \n15449  5cde31c4896a7fea063370a5         B     7  [[998, 1044]]   \n\n                                                  tokens     label  \n1654   Em dezembro do ano passado Fernando Medina ava...     Value  \n1669   Em dezembro do ano passado Fernando Medina ava...      Fact  \n4654   As instituições de ensino superior portuguesas...  Value(+)  \n4691   As instituições de ensino superior portuguesas...     Value  \n15413  Uma olimpíada da ciência da União Europeia ser...  Value(+)  \n...                                                  ...       ...  \n5481   que disponibilize os resultados da investigaçã...    Policy  \n9104                  a violência agravou-se brutalmente  Value(-)  \n9146                  a violência agravou-se brutalmente      Fact  \n15430     os governos desconhecem a realidade desportiva  Value(-)  \n15449     os governos desconhecem a realidade desportiva     Value  \n\n[3608 rows x 6 columns]",
      "text/html": "<div>\n<style scoped>\n    .dataframe tbody tr th:only-of-type {\n        vertical-align: middle;\n    }\n\n    .dataframe tbody tr th {\n        vertical-align: top;\n    }\n\n    .dataframe thead th {\n        text-align: right;\n    }\n</style>\n<table border=\"1\" class=\"dataframe\">\n  <thead>\n    <tr style=\"text-align: right;\">\n      <th></th>\n      <th>article_id</th>\n      <th>annotator</th>\n      <th>node</th>\n      <th>ranges</th>\n      <th>tokens</th>\n      <th>label</th>\n    </tr>\n  </thead>\n  <tbody>\n    <tr>\n      <th>1654</th>\n      <td>5d04c505896a7fea06a0fabc</td>\n      <td>A</td>\n      <td>0</td>\n      <td>[[0, 104]]</td>\n      <td>Em dezembro do ano passado Fernando Medina ava...</td>\n      <td>Value</td>\n    </tr>\n    <tr>\n      <th>1669</th>\n      <td>5d04c505896a7fea06a0fabc</td>\n      <td>B</td>\n      <td>0</td>\n      <td>[[0, 104]]</td>\n      <td>Em dezembro do ano passado Fernando Medina ava...</td>\n      <td>Fact</td>\n    </tr>\n    <tr>\n      <th>4654</th>\n      <td>5cf47065896a7fea060065b5</td>\n      <td>C</td>\n      <td>1</td>\n      <td>[[0, 108]]</td>\n      <td>As instituições de ensino superior portuguesas...</td>\n      <td>Value(+)</td>\n    </tr>\n    <tr>\n      <th>4691</th>\n      <td>5cf47065896a7fea060065b5</td>\n      <td>D</td>\n      <td>0</td>\n      <td>[[0, 108]]</td>\n      <td>As instituições de ensino superior portuguesas...</td>\n      <td>Value</td>\n    </tr>\n    <tr>\n      <th>15413</th>\n      <td>5cddb333896a7fea062e8b18</td>\n      <td>B</td>\n      <td>0</td>\n      <td>[[0, 109]]</td>\n      <td>Uma olimpíada da ciência da União Europeia ser...</td>\n      <td>Value(+)</td>\n    </tr>\n    <tr>\n      <th>...</th>\n      <td>...</td>\n      <td>...</td>\n      <td>...</td>\n      <td>...</td>\n      <td>...</td>\n      <td>...</td>\n    </tr>\n    <tr>\n      <th>5481</th>\n      <td>5cf46c00896a7fea06002671</td>\n      <td>C</td>\n      <td>13</td>\n      <td>[[997, 1072]]</td>\n      <td>que disponibilize os resultados da investigaçã...</td>\n      <td>Policy</td>\n    </tr>\n    <tr>\n      <th>9104</th>\n      <td>5cf462de896a7fea06ff9495</td>\n      <td>B</td>\n      <td>5</td>\n      <td>[[998, 1032]]</td>\n      <td>a violência agravou-se brutalmente</td>\n      <td>Value(-)</td>\n    </tr>\n    <tr>\n      <th>9146</th>\n      <td>5cf462de896a7fea06ff9495</td>\n      <td>D</td>\n      <td>6</td>\n      <td>[[998, 1032]]</td>\n      <td>a violência agravou-se brutalmente</td>\n      <td>Fact</td>\n    </tr>\n    <tr>\n      <th>15430</th>\n      <td>5cde31c4896a7fea063370a5</td>\n      <td>A</td>\n      <td>7</td>\n      <td>[[998, 1044]]</td>\n      <td>os governos desconhecem a realidade desportiva</td>\n      <td>Value(-)</td>\n    </tr>\n    <tr>\n      <th>15449</th>\n      <td>5cde31c4896a7fea063370a5</td>\n      <td>B</td>\n      <td>7</td>\n      <td>[[998, 1044]]</td>\n      <td>os governos desconhecem a realidade desportiva</td>\n      <td>Value</td>\n    </tr>\n  </tbody>\n</table>\n<p>3608 rows × 6 columns</p>\n</div>"
     },
     "metadata": {},
     "execution_count": 9
    }
   ],
   "source": [
    "difADUs[difADUs.duplicated(['article_id','ranges'], keep=False)].sort_values(by=['ranges'])\n"
   ]
  },
  {
   "cell_type": "markdown",
   "metadata": {},
   "source": [
    "### Split the dataset by annotators"
   ]
  },
  {
   "cell_type": "code",
   "execution_count": 10,
   "metadata": {},
   "outputs": [],
   "source": [
    "dfA= adus.loc[adus['annotator'] == 'A']\n",
    "dfB= adus.loc[adus['annotator'] == 'B']\n",
    "dfC= adus.loc[adus['annotator'] == 'C']\n",
    "dfD= adus.loc[adus['annotator'] == 'D']"
   ]
  },
  {
   "cell_type": "markdown",
   "metadata": {},
   "source": [
    "### Get only the token and label collumns"
   ]
  },
  {
   "cell_type": "code",
   "execution_count": 11,
   "metadata": {},
   "outputs": [],
   "source": [
    "def getTokenLabelcollumns(df):\n",
    "    return(df[['tokens', 'label']])"
   ]
  },
  {
   "cell_type": "markdown",
   "metadata": {},
   "source": [
    "## Baseline\n",
    "\n",
    "Here we will define some standard helper functions that will be used throughout this notebook.  \n",
    "\n",
    "### Building a standard corpus\n",
    "\n",
    "With this function, by giving a stemmer and a dataframe, a corpus is built, applying some simple cleaning tasks, such as removing stop words and upper cases. One thing to have in mind is that the dataset is in portuguese, the standard english versions need to be changed to portuguese."
   ]
  },
  {
   "cell_type": "code",
   "execution_count": 53,
   "metadata": {
    "tags": [
     "outputPrepend",
     "outputPrepend",
     "outputPrepend",
     "outputPrepend",
     "outputPrepend",
     "outputPrepend",
     "outputPrepend"
    ]
   },
   "outputs": [],
   "source": [
    "def buildCorpus(df):\n",
    "    corpus = []\n",
    "\n",
    "    stemmer= SnowballStemmer('portuguese')\n",
    "    for i in df.itertuples():\n",
    "        # get token and remove non alpha chars\n",
    "        token= unidecode.unidecode(i.tokens)\n",
    "        token = re.sub('[^a-zA-Z]', ' ', token)\n",
    "        # to lower-case\n",
    "        token =  token.lower()\n",
    "        # split into tokens, apply stemming and remove stop words\n",
    "        token = ' '.join([stemmer.stem(w) for w in token.split() if not w in set(stopwords.words('portuguese'))])\n",
    "        corpus.append(token)\n",
    "    return corpus"
   ]
  },
  {
   "cell_type": "code",
   "execution_count": 55,
   "metadata": {
    "tags": [
     "outputPrepend",
     "outputPrepend",
     "outputPrepend",
     "outputPrepend",
     "outputPrepend",
     "outputPrepend",
     "outputPrepend",
     "outputPrepend",
     "outputPrepend",
     "outputPrepend",
     "outputPrepend",
     "outputPrepend",
     "outputPrepend",
     "outputPrepend",
     "outputPrepend",
     "outputPrepend",
     "outputPrepend",
     "outputPrepend",
     "outputPrepend",
     "outputPrepend",
     "outputPrepend",
     "outputPrepend",
     "outputPrepend",
     "outputPrepend",
     "outputPrepend",
     "outputPrepend",
     "outputPrepend",
     "outputPrepend",
     "outputPrepend",
     "outputPrepend",
     "outputPrepend",
     "outputPrepend",
     "outputPrepend",
     "outputPrepend",
     "outputPrepend",
     "outputPrepend",
     "outputPrepend",
     "outputPrepend",
     "outputPrepend",
     "outputPrepend",
     "outputPrepend",
     "outputPrepend",
     "outputPrepend",
     "outputPrepend",
     "outputPrepend",
     "outputPrepend",
     "outputPrepend",
     "outputPrepend",
     "outputPrepend",
     "outputPrepend",
     "outputPrepend",
     "outputPrepend",
     "outputPrepend",
     "outputPrepend",
     "outputPrepend",
     "outputPrepend",
     "outputPrepend",
     "outputPrepend",
     "outputPrepend",
     "outputPrepend",
     "outputPrepend",
     "outputPrepend",
     "outputPrepend",
     "outputPrepend",
     "outputPrepend",
     "outputPrepend",
     "outputPrepend",
     "outputPrepend",
     "outputPrepend",
     "outputPrepend",
     "outputPrepend",
     "outputPrepend",
     "outputPrepend",
     "outputPrepend",
     "outputPrepend",
     "outputPrepend",
     "outputPrepend",
     "outputPrepend",
     "outputPrepend"
    ]
   },
   "outputs": [],
   "source": [
    "corpusA= buildCorpus(dfA)"
   ]
  },
  {
   "cell_type": "code",
   "execution_count": null,
   "metadata": {},
   "outputs": [],
   "source": []
  },
  {
   "cell_type": "markdown",
   "metadata": {},
   "source": [
    "### Making the Classifier"
   ]
  },
  {
   "cell_type": "code",
   "execution_count": 14,
   "metadata": {},
   "outputs": [],
   "source": [
    "# TODO"
   ]
  },
  {
   "cell_type": "markdown",
   "metadata": {},
   "source": [
    "### Evaluating the Results"
   ]
  },
  {
   "cell_type": "code",
   "execution_count": 15,
   "metadata": {},
   "outputs": [],
   "source": [
    "# TODO"
   ]
  },
  {
   "cell_type": "markdown",
   "metadata": {},
   "source": [
    "#TODO\n",
    "\n",
    "- separar por anotadores\n",
    "- analisar os resultados dos anotadores uns contra os outros\n",
    "- "
   ]
  }
 ],
 "metadata": {
  "interpreter": {
   "hash": "8b8aa58cbdd3fa7ee5838f11bebf8643e92d1255fc2cdda3e6cf742529abce79"
  },
  "kernelspec": {
   "display_name": "Python 3.9.2 64-bit",
   "language": "python",
   "name": "python39264bit532d2219c3ec49c283ff73eeab452620"
  },
  "language_info": {
   "codemirror_mode": {
    "name": "ipython",
    "version": 3
   },
   "file_extension": ".py",
   "mimetype": "text/x-python",
   "name": "python",
   "nbconvert_exporter": "python",
   "pygments_lexer": "ipython3",
   "version": "3.9.12-final"
  },
  "orig_nbformat": 4
 },
 "nbformat": 4,
 "nbformat_minor": 2
}